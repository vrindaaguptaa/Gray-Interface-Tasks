{
  "nbformat": 4,
  "nbformat_minor": 0,
  "metadata": {
    "colab": {
      "provenance": []
    },
    "kernelspec": {
      "name": "python3",
      "display_name": "Python 3"
    },
    "language_info": {
      "name": "python"
    }
  },
  "cells": [
    {
      "cell_type": "code",
      "execution_count": 1,
      "metadata": {
        "id": "TOdpUNhKvjMF"
      },
      "outputs": [],
      "source": [
        "f=open(\"/content/J. K. Rowling - Harry Potter 1 - Sorcerer's Stone.txt\",\"r\");\n",
        "book=f.read();\n",
        "f.close();"
      ]
    },
    {
      "cell_type": "code",
      "source": [
        "import nltk\n",
        "nltk.download('punkt')\n",
        "nltk.download('stopwords')\n",
        "from nltk.tokenize import word_tokenize,sent_tokenize\n",
        "from nltk.corpus import stopwords"
      ],
      "metadata": {
        "colab": {
          "base_uri": "https://localhost:8080/"
        },
        "id": "j5Za5y5HwkHE",
        "outputId": "688fdaae-1ce0-4c73-b92d-a50f5a5b9d35"
      },
      "execution_count": 6,
      "outputs": [
        {
          "output_type": "stream",
          "name": "stderr",
          "text": [
            "[nltk_data] Downloading package punkt to /root/nltk_data...\n",
            "[nltk_data]   Package punkt is already up-to-date!\n",
            "[nltk_data] Downloading package stopwords to /root/nltk_data...\n",
            "[nltk_data]   Package stopwords is already up-to-date!\n"
          ]
        }
      ]
    },
    {
      "cell_type": "code",
      "source": [
        "stop_words = set(stopwords.words('english'))"
      ],
      "metadata": {
        "id": "iZGQASUrwzlF"
      },
      "execution_count": 34,
      "outputs": []
    },
    {
      "cell_type": "code",
      "source": [
        "sentences = nltk.sent_tokenize(book)"
      ],
      "metadata": {
        "id": "DZDkv00jx5T8"
      },
      "execution_count": 35,
      "outputs": []
    },
    {
      "cell_type": "code",
      "source": [
        "import re"
      ],
      "metadata": {
        "id": "iVj9FBiqy0XU"
      },
      "execution_count": 36,
      "outputs": []
    },
    {
      "cell_type": "code",
      "source": [
        "corpus = []\n",
        "\n",
        "for i in range(len(sentences)):\n",
        "  sent = re.sub('[^a-zA-Z]', ' ', sentences[i])\n",
        "  sent = sent.lower()\n",
        "  sent = sent.split()\n",
        "  # sent = nltk.word_tokenize(sent[i])\n",
        "  sent = [word for word in sent if not word in stop_words]\n",
        "\n",
        "  corpus.extend(sent)"
      ],
      "metadata": {
        "id": "M0GenRTzzaeP"
      },
      "execution_count": 37,
      "outputs": []
    },
    {
      "cell_type": "code",
      "source": [
        "corpus[:20]"
      ],
      "metadata": {
        "colab": {
          "base_uri": "https://localhost:8080/"
        },
        "id": "B_qh9JU_32sn",
        "outputId": "19c03e2f-c43f-404f-dd3f-2a40de2ddc81"
      },
      "execution_count": 38,
      "outputs": [
        {
          "output_type": "execute_result",
          "data": {
            "text/plain": [
              "['harry',\n",
              " 'potter',\n",
              " 'sorcerer',\n",
              " 'stone',\n",
              " 'chapter',\n",
              " 'one',\n",
              " 'boy',\n",
              " 'lived',\n",
              " 'mr',\n",
              " 'mrs',\n",
              " 'dursley',\n",
              " 'number',\n",
              " 'four',\n",
              " 'privet',\n",
              " 'drive',\n",
              " 'proud',\n",
              " 'say',\n",
              " 'perfectly',\n",
              " 'normal',\n",
              " 'thank']"
            ]
          },
          "metadata": {},
          "execution_count": 38
        }
      ]
    },
    {
      "cell_type": "code",
      "source": [
        "# Creating a bigram\n",
        "from nltk.util import ngrams\n",
        "# bigrams = ngrams(corpus,2,pad_left=True,left_pad_symbol='.',pad_right=True,right_pad_symbol='.')\n",
        "bigrams = ngrams(corpus,2)"
      ],
      "metadata": {
        "id": "WTKSJI0r0tIX"
      },
      "execution_count": 55,
      "outputs": []
    },
    {
      "cell_type": "code",
      "source": [
        "bigrams=list(bigrams)\n",
        "bigrams[:20]"
      ],
      "metadata": {
        "colab": {
          "base_uri": "https://localhost:8080/"
        },
        "id": "kskk-8Lm4u8l",
        "outputId": "6731e8af-534b-4d70-e23b-c9c2284c4b0a"
      },
      "execution_count": 56,
      "outputs": [
        {
          "output_type": "execute_result",
          "data": {
            "text/plain": [
              "[('harry', 'potter'),\n",
              " ('potter', 'sorcerer'),\n",
              " ('sorcerer', 'stone'),\n",
              " ('stone', 'chapter'),\n",
              " ('chapter', 'one'),\n",
              " ('one', 'boy'),\n",
              " ('boy', 'lived'),\n",
              " ('lived', 'mr'),\n",
              " ('mr', 'mrs'),\n",
              " ('mrs', 'dursley'),\n",
              " ('dursley', 'number'),\n",
              " ('number', 'four'),\n",
              " ('four', 'privet'),\n",
              " ('privet', 'drive'),\n",
              " ('drive', 'proud'),\n",
              " ('proud', 'say'),\n",
              " ('say', 'perfectly'),\n",
              " ('perfectly', 'normal'),\n",
              " ('normal', 'thank'),\n",
              " ('thank', 'much')]"
            ]
          },
          "metadata": {},
          "execution_count": 56
        }
      ]
    },
    {
      "cell_type": "code",
      "source": [
        "import torch"
      ],
      "metadata": {
        "id": "OkGHGtOj72bY"
      },
      "execution_count": 49,
      "outputs": []
    },
    {
      "cell_type": "code",
      "source": [
        "len(set(corpus))"
      ],
      "metadata": {
        "colab": {
          "base_uri": "https://localhost:8080/"
        },
        "id": "1ik1kkaA9Kkh",
        "outputId": "09a367d9-2e0e-47f0-d88e-ea29221d442a"
      },
      "execution_count": 59,
      "outputs": [
        {
          "output_type": "execute_result",
          "data": {
            "text/plain": [
              "5615"
            ]
          },
          "metadata": {},
          "execution_count": 59
        }
      ]
    },
    {
      "cell_type": "code",
      "source": [
        "N = torch.zeros((5615, 5615), dtype=torch.int32)"
      ],
      "metadata": {
        "id": "URNeRkI59wit"
      },
      "execution_count": 60,
      "outputs": []
    },
    {
      "cell_type": "code",
      "source": [
        "wtoi={}\n",
        "itow={}\n",
        "for i,w in enumerate(set(corpus)):\n",
        "  wtoi[w]=i\n",
        "  itow[i]=w"
      ],
      "metadata": {
        "id": "bwMqPToj96b9"
      },
      "execution_count": 61,
      "outputs": []
    },
    {
      "cell_type": "code",
      "source": [
        "for bigram in bigrams:\n",
        "  w1,w2=bigram\n",
        "  N[wtoi[w1],wtoi[w2]]+=1"
      ],
      "metadata": {
        "id": "Cs12ynoT-kY-"
      },
      "execution_count": 62,
      "outputs": []
    },
    {
      "cell_type": "code",
      "source": [
        "g = torch.Generator().manual_seed(2147483647)\n",
        "p = torch.rand(3, generator=g)\n",
        "p = p / p.sum()\n",
        "p"
      ],
      "metadata": {
        "colab": {
          "base_uri": "https://localhost:8080/"
        },
        "id": "5BVdHtKaCqnW",
        "outputId": "b807ec57-0396-4e07-90ad-3c98ed99bbb6"
      },
      "execution_count": 83,
      "outputs": [
        {
          "output_type": "execute_result",
          "data": {
            "text/plain": [
              "tensor([0.6064, 0.3033, 0.0903])"
            ]
          },
          "metadata": {},
          "execution_count": 83
        }
      ]
    },
    {
      "cell_type": "code",
      "source": [
        "g = torch.Generator().manual_seed(2147483647)\n",
        "ix = torch.multinomial(p, num_samples=1, replacement=True, generator=g).item()\n",
        "itow[ix]"
      ],
      "metadata": {
        "colab": {
          "base_uri": "https://localhost:8080/",
          "height": 35
        },
        "id": "L03KzFIGAVRV",
        "outputId": "be9a4ea9-bc5c-422b-c580-083102cad02f"
      },
      "execution_count": 70,
      "outputs": [
        {
          "output_type": "execute_result",
          "data": {
            "text/plain": [
              "'broke'"
            ],
            "application/vnd.google.colaboratory.intrinsic+json": {
              "type": "string"
            }
          },
          "metadata": {},
          "execution_count": 70
        }
      ]
    },
    {
      "cell_type": "code",
      "source": [
        "P = (N+1).float()\n",
        "P /= P.sum(1, keepdims=True)"
      ],
      "metadata": {
        "id": "UOD2s-suAbEe"
      },
      "execution_count": 72,
      "outputs": []
    },
    {
      "cell_type": "code",
      "source": [
        "P.sum(1, keepdims=True).sum()"
      ],
      "metadata": {
        "colab": {
          "base_uri": "https://localhost:8080/"
        },
        "id": "_ad5uAgSDdJN",
        "outputId": "8a8c636b-9213-49e1-c3aa-a23feabb60e8"
      },
      "execution_count": 82,
      "outputs": [
        {
          "output_type": "execute_result",
          "data": {
            "text/plain": [
              "tensor(5615.)"
            ]
          },
          "metadata": {},
          "execution_count": 82
        }
      ]
    },
    {
      "cell_type": "code",
      "source": [
        "g = torch.Generator().manual_seed(2147483692)\n",
        "\n",
        "# predict 4 sentences\n",
        "for i in range(4):\n",
        "\n",
        "  out = []\n",
        "  ix = 0\n",
        "  k=0\n",
        "  # predict 7 words each sentence\n",
        "  while k<7:\n",
        "    p = P[ix]\n",
        "    ix = torch.multinomial(p, num_samples=1, replacement=True, generator=g).item()\n",
        "    out.append(itow[ix])\n",
        "    k+=1\n",
        "  print(' '.join(out))"
      ],
      "metadata": {
        "colab": {
          "base_uri": "https://localhost:8080/"
        },
        "id": "yCK2ByCCBmGs",
        "outputId": "653afb0e-e44e-41a9-fe29-30cbf0254096"
      },
      "execution_count": 89,
      "outputs": [
        {
          "output_type": "stream",
          "name": "stdout",
          "text": [
            "wondered pleased blundering blotts faintest thundered lightest\n",
            "smoothly watch scowl take broadly barn unfortunately\n",
            "keeps hold sweeping roast heap listening cake\n",
            "beat skip captain seating arrows instead change\n"
          ]
        }
      ]
    }
  ]
}