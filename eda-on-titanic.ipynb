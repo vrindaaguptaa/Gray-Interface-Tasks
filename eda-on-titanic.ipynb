{
 "cells": [
  {
   "cell_type": "code",
   "execution_count": 1,
   "id": "76a51699",
   "metadata": {
    "_cell_guid": "b1076dfc-b9ad-4769-8c92-a6c4dae69d19",
    "_uuid": "8f2839f25d086af736a60e9eeb907d3b93b6e0e5",
    "execution": {
     "iopub.execute_input": "2024-05-28T18:46:39.907743Z",
     "iopub.status.busy": "2024-05-28T18:46:39.907319Z",
     "iopub.status.idle": "2024-05-28T18:46:40.696007Z",
     "shell.execute_reply": "2024-05-28T18:46:40.694476Z"
    },
    "papermill": {
     "duration": 0.805361,
     "end_time": "2024-05-28T18:46:40.699787",
     "exception": false,
     "start_time": "2024-05-28T18:46:39.894426",
     "status": "completed"
    },
    "tags": []
   },
   "outputs": [
    {
     "name": "stdout",
     "output_type": "stream",
     "text": [
      "/kaggle/input/test-file/tested.csv\n"
     ]
    }
   ],
   "source": [
    "# This Python 3 environment comes with many helpful analytics libraries installed\n",
    "# It is defined by the kaggle/python Docker image: https://github.com/kaggle/docker-python\n",
    "# For example, here's several helpful packages to load\n",
    "\n",
    "import numpy as np # linear algebra\n",
    "import pandas as pd # data processing, CSV file I/O (e.g. pd.read_csv)\n",
    "\n",
    "# Input data files are available in the read-only \"../input/\" directory\n",
    "# For example, running this (by clicking run or pressing Shift+Enter) will list all files under the input directory\n",
    "\n",
    "import os\n",
    "for dirname, _, filenames in os.walk('/kaggle/input'):\n",
    "    for filename in filenames:\n",
    "        print(os.path.join(dirname, filename))\n",
    "\n",
    "# You can write up to 20GB to the current directory (/kaggle/working/) that gets preserved as output when you create a version using \"Save & Run All\" \n",
    "# You can also write temporary files to /kaggle/temp/, but they won't be saved outside of the current session"
   ]
  },
  {
   "cell_type": "code",
   "execution_count": 2,
   "id": "6fd30335",
   "metadata": {
    "execution": {
     "iopub.execute_input": "2024-05-28T18:46:40.723422Z",
     "iopub.status.busy": "2024-05-28T18:46:40.722335Z",
     "iopub.status.idle": "2024-05-28T18:46:41.877508Z",
     "shell.execute_reply": "2024-05-28T18:46:41.876371Z"
    },
    "papermill": {
     "duration": 1.169003,
     "end_time": "2024-05-28T18:46:41.879846",
     "exception": false,
     "start_time": "2024-05-28T18:46:40.710843",
     "status": "completed"
    },
    "tags": []
   },
   "outputs": [],
   "source": [
    "import pandas as pd\n",
    "import numpy as np\n",
    "import matplotlib.pyplot as plt\n",
    "import seaborn as sns\n",
    "%matplotlib inline"
   ]
  },
  {
   "cell_type": "code",
   "execution_count": 3,
   "id": "a4e134c8",
   "metadata": {
    "execution": {
     "iopub.execute_input": "2024-05-28T18:46:41.903083Z",
     "iopub.status.busy": "2024-05-28T18:46:41.902686Z",
     "iopub.status.idle": "2024-05-28T18:46:41.928288Z",
     "shell.execute_reply": "2024-05-28T18:46:41.927467Z"
    },
    "papermill": {
     "duration": 0.039439,
     "end_time": "2024-05-28T18:46:41.930349",
     "exception": false,
     "start_time": "2024-05-28T18:46:41.890910",
     "status": "completed"
    },
    "tags": []
   },
   "outputs": [],
   "source": [
    "df = pd.read_csv('/kaggle/input/test-file/tested.csv')"
   ]
  },
  {
   "cell_type": "code",
   "execution_count": 4,
   "id": "9586950b",
   "metadata": {
    "execution": {
     "iopub.execute_input": "2024-05-28T18:46:41.954613Z",
     "iopub.status.busy": "2024-05-28T18:46:41.953949Z",
     "iopub.status.idle": "2024-05-28T18:46:41.978610Z",
     "shell.execute_reply": "2024-05-28T18:46:41.977638Z"
    },
    "papermill": {
     "duration": 0.038636,
     "end_time": "2024-05-28T18:46:41.980734",
     "exception": false,
     "start_time": "2024-05-28T18:46:41.942098",
     "status": "completed"
    },
    "tags": []
   },
   "outputs": [
    {
     "data": {
      "text/html": [
       "<div>\n",
       "<style scoped>\n",
       "    .dataframe tbody tr th:only-of-type {\n",
       "        vertical-align: middle;\n",
       "    }\n",
       "\n",
       "    .dataframe tbody tr th {\n",
       "        vertical-align: top;\n",
       "    }\n",
       "\n",
       "    .dataframe thead th {\n",
       "        text-align: right;\n",
       "    }\n",
       "</style>\n",
       "<table border=\"1\" class=\"dataframe\">\n",
       "  <thead>\n",
       "    <tr style=\"text-align: right;\">\n",
       "      <th></th>\n",
       "      <th>PassengerId</th>\n",
       "      <th>Survived</th>\n",
       "      <th>Pclass</th>\n",
       "      <th>Name</th>\n",
       "      <th>Sex</th>\n",
       "      <th>Age</th>\n",
       "      <th>SibSp</th>\n",
       "      <th>Parch</th>\n",
       "      <th>Ticket</th>\n",
       "      <th>Fare</th>\n",
       "      <th>Cabin</th>\n",
       "      <th>Embarked</th>\n",
       "    </tr>\n",
       "  </thead>\n",
       "  <tbody>\n",
       "    <tr>\n",
       "      <th>0</th>\n",
       "      <td>892</td>\n",
       "      <td>0</td>\n",
       "      <td>3</td>\n",
       "      <td>Kelly, Mr. James</td>\n",
       "      <td>male</td>\n",
       "      <td>34.5</td>\n",
       "      <td>0</td>\n",
       "      <td>0</td>\n",
       "      <td>330911</td>\n",
       "      <td>7.8292</td>\n",
       "      <td>NaN</td>\n",
       "      <td>Q</td>\n",
       "    </tr>\n",
       "    <tr>\n",
       "      <th>1</th>\n",
       "      <td>893</td>\n",
       "      <td>1</td>\n",
       "      <td>3</td>\n",
       "      <td>Wilkes, Mrs. James (Ellen Needs)</td>\n",
       "      <td>female</td>\n",
       "      <td>47.0</td>\n",
       "      <td>1</td>\n",
       "      <td>0</td>\n",
       "      <td>363272</td>\n",
       "      <td>7.0000</td>\n",
       "      <td>NaN</td>\n",
       "      <td>S</td>\n",
       "    </tr>\n",
       "    <tr>\n",
       "      <th>2</th>\n",
       "      <td>894</td>\n",
       "      <td>0</td>\n",
       "      <td>2</td>\n",
       "      <td>Myles, Mr. Thomas Francis</td>\n",
       "      <td>male</td>\n",
       "      <td>62.0</td>\n",
       "      <td>0</td>\n",
       "      <td>0</td>\n",
       "      <td>240276</td>\n",
       "      <td>9.6875</td>\n",
       "      <td>NaN</td>\n",
       "      <td>Q</td>\n",
       "    </tr>\n",
       "    <tr>\n",
       "      <th>3</th>\n",
       "      <td>895</td>\n",
       "      <td>0</td>\n",
       "      <td>3</td>\n",
       "      <td>Wirz, Mr. Albert</td>\n",
       "      <td>male</td>\n",
       "      <td>27.0</td>\n",
       "      <td>0</td>\n",
       "      <td>0</td>\n",
       "      <td>315154</td>\n",
       "      <td>8.6625</td>\n",
       "      <td>NaN</td>\n",
       "      <td>S</td>\n",
       "    </tr>\n",
       "    <tr>\n",
       "      <th>4</th>\n",
       "      <td>896</td>\n",
       "      <td>1</td>\n",
       "      <td>3</td>\n",
       "      <td>Hirvonen, Mrs. Alexander (Helga E Lindqvist)</td>\n",
       "      <td>female</td>\n",
       "      <td>22.0</td>\n",
       "      <td>1</td>\n",
       "      <td>1</td>\n",
       "      <td>3101298</td>\n",
       "      <td>12.2875</td>\n",
       "      <td>NaN</td>\n",
       "      <td>S</td>\n",
       "    </tr>\n",
       "  </tbody>\n",
       "</table>\n",
       "</div>"
      ],
      "text/plain": [
       "   PassengerId  Survived  Pclass  \\\n",
       "0          892         0       3   \n",
       "1          893         1       3   \n",
       "2          894         0       2   \n",
       "3          895         0       3   \n",
       "4          896         1       3   \n",
       "\n",
       "                                           Name     Sex   Age  SibSp  Parch  \\\n",
       "0                              Kelly, Mr. James    male  34.5      0      0   \n",
       "1              Wilkes, Mrs. James (Ellen Needs)  female  47.0      1      0   \n",
       "2                     Myles, Mr. Thomas Francis    male  62.0      0      0   \n",
       "3                              Wirz, Mr. Albert    male  27.0      0      0   \n",
       "4  Hirvonen, Mrs. Alexander (Helga E Lindqvist)  female  22.0      1      1   \n",
       "\n",
       "    Ticket     Fare Cabin Embarked  \n",
       "0   330911   7.8292   NaN        Q  \n",
       "1   363272   7.0000   NaN        S  \n",
       "2   240276   9.6875   NaN        Q  \n",
       "3   315154   8.6625   NaN        S  \n",
       "4  3101298  12.2875   NaN        S  "
      ]
     },
     "execution_count": 4,
     "metadata": {},
     "output_type": "execute_result"
    }
   ],
   "source": [
    "df.head()"
   ]
  },
  {
   "cell_type": "code",
   "execution_count": 5,
   "id": "a8120707",
   "metadata": {
    "execution": {
     "iopub.execute_input": "2024-05-28T18:46:42.004242Z",
     "iopub.status.busy": "2024-05-28T18:46:42.003870Z",
     "iopub.status.idle": "2024-05-28T18:46:42.025835Z",
     "shell.execute_reply": "2024-05-28T18:46:42.024818Z"
    },
    "papermill": {
     "duration": 0.036106,
     "end_time": "2024-05-28T18:46:42.028110",
     "exception": false,
     "start_time": "2024-05-28T18:46:41.992004",
     "status": "completed"
    },
    "tags": []
   },
   "outputs": [
    {
     "data": {
      "text/html": [
       "<div>\n",
       "<style scoped>\n",
       "    .dataframe tbody tr th:only-of-type {\n",
       "        vertical-align: middle;\n",
       "    }\n",
       "\n",
       "    .dataframe tbody tr th {\n",
       "        vertical-align: top;\n",
       "    }\n",
       "\n",
       "    .dataframe thead th {\n",
       "        text-align: right;\n",
       "    }\n",
       "</style>\n",
       "<table border=\"1\" class=\"dataframe\">\n",
       "  <thead>\n",
       "    <tr style=\"text-align: right;\">\n",
       "      <th></th>\n",
       "      <th>PassengerId</th>\n",
       "      <th>Survived</th>\n",
       "      <th>Pclass</th>\n",
       "      <th>Name</th>\n",
       "      <th>Sex</th>\n",
       "      <th>Age</th>\n",
       "      <th>SibSp</th>\n",
       "      <th>Parch</th>\n",
       "      <th>Ticket</th>\n",
       "      <th>Fare</th>\n",
       "      <th>Cabin</th>\n",
       "      <th>Embarked</th>\n",
       "    </tr>\n",
       "  </thead>\n",
       "  <tbody>\n",
       "    <tr>\n",
       "      <th>0</th>\n",
       "      <td>False</td>\n",
       "      <td>False</td>\n",
       "      <td>False</td>\n",
       "      <td>False</td>\n",
       "      <td>False</td>\n",
       "      <td>False</td>\n",
       "      <td>False</td>\n",
       "      <td>False</td>\n",
       "      <td>False</td>\n",
       "      <td>False</td>\n",
       "      <td>True</td>\n",
       "      <td>False</td>\n",
       "    </tr>\n",
       "    <tr>\n",
       "      <th>1</th>\n",
       "      <td>False</td>\n",
       "      <td>False</td>\n",
       "      <td>False</td>\n",
       "      <td>False</td>\n",
       "      <td>False</td>\n",
       "      <td>False</td>\n",
       "      <td>False</td>\n",
       "      <td>False</td>\n",
       "      <td>False</td>\n",
       "      <td>False</td>\n",
       "      <td>True</td>\n",
       "      <td>False</td>\n",
       "    </tr>\n",
       "    <tr>\n",
       "      <th>2</th>\n",
       "      <td>False</td>\n",
       "      <td>False</td>\n",
       "      <td>False</td>\n",
       "      <td>False</td>\n",
       "      <td>False</td>\n",
       "      <td>False</td>\n",
       "      <td>False</td>\n",
       "      <td>False</td>\n",
       "      <td>False</td>\n",
       "      <td>False</td>\n",
       "      <td>True</td>\n",
       "      <td>False</td>\n",
       "    </tr>\n",
       "    <tr>\n",
       "      <th>3</th>\n",
       "      <td>False</td>\n",
       "      <td>False</td>\n",
       "      <td>False</td>\n",
       "      <td>False</td>\n",
       "      <td>False</td>\n",
       "      <td>False</td>\n",
       "      <td>False</td>\n",
       "      <td>False</td>\n",
       "      <td>False</td>\n",
       "      <td>False</td>\n",
       "      <td>True</td>\n",
       "      <td>False</td>\n",
       "    </tr>\n",
       "    <tr>\n",
       "      <th>4</th>\n",
       "      <td>False</td>\n",
       "      <td>False</td>\n",
       "      <td>False</td>\n",
       "      <td>False</td>\n",
       "      <td>False</td>\n",
       "      <td>False</td>\n",
       "      <td>False</td>\n",
       "      <td>False</td>\n",
       "      <td>False</td>\n",
       "      <td>False</td>\n",
       "      <td>True</td>\n",
       "      <td>False</td>\n",
       "    </tr>\n",
       "    <tr>\n",
       "      <th>...</th>\n",
       "      <td>...</td>\n",
       "      <td>...</td>\n",
       "      <td>...</td>\n",
       "      <td>...</td>\n",
       "      <td>...</td>\n",
       "      <td>...</td>\n",
       "      <td>...</td>\n",
       "      <td>...</td>\n",
       "      <td>...</td>\n",
       "      <td>...</td>\n",
       "      <td>...</td>\n",
       "      <td>...</td>\n",
       "    </tr>\n",
       "    <tr>\n",
       "      <th>413</th>\n",
       "      <td>False</td>\n",
       "      <td>False</td>\n",
       "      <td>False</td>\n",
       "      <td>False</td>\n",
       "      <td>False</td>\n",
       "      <td>True</td>\n",
       "      <td>False</td>\n",
       "      <td>False</td>\n",
       "      <td>False</td>\n",
       "      <td>False</td>\n",
       "      <td>True</td>\n",
       "      <td>False</td>\n",
       "    </tr>\n",
       "    <tr>\n",
       "      <th>414</th>\n",
       "      <td>False</td>\n",
       "      <td>False</td>\n",
       "      <td>False</td>\n",
       "      <td>False</td>\n",
       "      <td>False</td>\n",
       "      <td>False</td>\n",
       "      <td>False</td>\n",
       "      <td>False</td>\n",
       "      <td>False</td>\n",
       "      <td>False</td>\n",
       "      <td>False</td>\n",
       "      <td>False</td>\n",
       "    </tr>\n",
       "    <tr>\n",
       "      <th>415</th>\n",
       "      <td>False</td>\n",
       "      <td>False</td>\n",
       "      <td>False</td>\n",
       "      <td>False</td>\n",
       "      <td>False</td>\n",
       "      <td>False</td>\n",
       "      <td>False</td>\n",
       "      <td>False</td>\n",
       "      <td>False</td>\n",
       "      <td>False</td>\n",
       "      <td>True</td>\n",
       "      <td>False</td>\n",
       "    </tr>\n",
       "    <tr>\n",
       "      <th>416</th>\n",
       "      <td>False</td>\n",
       "      <td>False</td>\n",
       "      <td>False</td>\n",
       "      <td>False</td>\n",
       "      <td>False</td>\n",
       "      <td>True</td>\n",
       "      <td>False</td>\n",
       "      <td>False</td>\n",
       "      <td>False</td>\n",
       "      <td>False</td>\n",
       "      <td>True</td>\n",
       "      <td>False</td>\n",
       "    </tr>\n",
       "    <tr>\n",
       "      <th>417</th>\n",
       "      <td>False</td>\n",
       "      <td>False</td>\n",
       "      <td>False</td>\n",
       "      <td>False</td>\n",
       "      <td>False</td>\n",
       "      <td>True</td>\n",
       "      <td>False</td>\n",
       "      <td>False</td>\n",
       "      <td>False</td>\n",
       "      <td>False</td>\n",
       "      <td>True</td>\n",
       "      <td>False</td>\n",
       "    </tr>\n",
       "  </tbody>\n",
       "</table>\n",
       "<p>418 rows × 12 columns</p>\n",
       "</div>"
      ],
      "text/plain": [
       "     PassengerId  Survived  Pclass   Name    Sex    Age  SibSp  Parch  Ticket  \\\n",
       "0          False     False   False  False  False  False  False  False   False   \n",
       "1          False     False   False  False  False  False  False  False   False   \n",
       "2          False     False   False  False  False  False  False  False   False   \n",
       "3          False     False   False  False  False  False  False  False   False   \n",
       "4          False     False   False  False  False  False  False  False   False   \n",
       "..           ...       ...     ...    ...    ...    ...    ...    ...     ...   \n",
       "413        False     False   False  False  False   True  False  False   False   \n",
       "414        False     False   False  False  False  False  False  False   False   \n",
       "415        False     False   False  False  False  False  False  False   False   \n",
       "416        False     False   False  False  False   True  False  False   False   \n",
       "417        False     False   False  False  False   True  False  False   False   \n",
       "\n",
       "      Fare  Cabin  Embarked  \n",
       "0    False   True     False  \n",
       "1    False   True     False  \n",
       "2    False   True     False  \n",
       "3    False   True     False  \n",
       "4    False   True     False  \n",
       "..     ...    ...       ...  \n",
       "413  False   True     False  \n",
       "414  False  False     False  \n",
       "415  False   True     False  \n",
       "416  False   True     False  \n",
       "417  False   True     False  \n",
       "\n",
       "[418 rows x 12 columns]"
      ]
     },
     "execution_count": 5,
     "metadata": {},
     "output_type": "execute_result"
    }
   ],
   "source": [
    "df.isnull()"
   ]
  },
  {
   "cell_type": "code",
   "execution_count": 6,
   "id": "06885f54",
   "metadata": {
    "execution": {
     "iopub.execute_input": "2024-05-28T18:46:42.052467Z",
     "iopub.status.busy": "2024-05-28T18:46:42.051784Z",
     "iopub.status.idle": "2024-05-28T18:46:42.295248Z",
     "shell.execute_reply": "2024-05-28T18:46:42.294039Z"
    },
    "papermill": {
     "duration": 0.257852,
     "end_time": "2024-05-28T18:46:42.297218",
     "exception": false,
     "start_time": "2024-05-28T18:46:42.039366",
     "status": "completed"
    },
    "tags": []
   },
   "outputs": [
    {
     "data": {
      "text/plain": [
       "<Axes: >"
      ]
     },
     "execution_count": 6,
     "metadata": {},
     "output_type": "execute_result"
    },
    {
     "data": {
      "image/png": "[encoded data removed]",
      "text/plain": [
       "<Figure size 640x480 with 1 Axes>"
      ]
     },
     "metadata": {},
     "output_type": "display_data"
    }
   ],
   "source": [
    "sns.heatmap(df.isnull(), yticklabels=False, cbar=False)"
   ]
  },
  {
   "cell_type": "code",
   "execution_count": 7,
   "id": "a63e8362",
   "metadata": {
    "execution": {
     "iopub.execute_input": "2024-05-28T18:46:42.321737Z",
     "iopub.status.busy": "2024-05-28T18:46:42.321380Z",
     "iopub.status.idle": "2024-05-28T18:46:42.577489Z",
     "shell.execute_reply": "2024-05-28T18:46:42.576517Z"
    },
    "papermill": {
     "duration": 0.270676,
     "end_time": "2024-05-28T18:46:42.579497",
     "exception": false,
     "start_time": "2024-05-28T18:46:42.308821",
     "status": "completed"
    },
    "tags": []
   },
   "outputs": [
    {
     "data": {
      "text/plain": [
       "<Axes: xlabel='Survived', ylabel='count'>"
      ]
     },
     "execution_count": 7,
     "metadata": {},
     "output_type": "execute_result"
    },
    {
     "data": {
      "image/png": "[encoded data removed]",
      "text/plain": [
       "<Figure size 640x480 with 1 Axes>"
      ]
     },
     "metadata": {},
     "output_type": "display_data"
    }
   ],
   "source": [
    "sns.countplot(x='Survived', data=df)"
   ]
  },
  {
   "cell_type": "code",
   "execution_count": 8,
   "id": "d16ee3da",
   "metadata": {
    "execution": {
     "iopub.execute_input": "2024-05-28T18:46:42.608331Z",
     "iopub.status.busy": "2024-05-28T18:46:42.607925Z",
     "iopub.status.idle": "2024-05-28T18:46:42.835533Z",
     "shell.execute_reply": "2024-05-28T18:46:42.834401Z"
    },
    "papermill": {
     "duration": 0.242938,
     "end_time": "2024-05-28T18:46:42.837518",
     "exception": false,
     "start_time": "2024-05-28T18:46:42.594580",
     "status": "completed"
    },
    "tags": []
   },
   "outputs": [
    {
     "data": {
      "text/plain": [
       "<Axes: xlabel='Survived', ylabel='count'>"
      ]
     },
     "execution_count": 8,
     "metadata": {},
     "output_type": "execute_result"
    },
    {
     "data": {
      "image/png": "[encoded data removed]",
      "text/plain": [
       "<Figure size 640x480 with 1 Axes>"
      ]
     },
     "metadata": {},
     "output_type": "display_data"
    }
   ],
   "source": [
    "sns.countplot(x='Survived', hue='Sex', data=df)"
   ]
  },
  {
   "cell_type": "code",
   "execution_count": 9,
   "id": "d2b5d076",
   "metadata": {
    "execution": {
     "iopub.execute_input": "2024-05-28T18:46:42.864786Z",
     "iopub.status.busy": "2024-05-28T18:46:42.863788Z",
     "iopub.status.idle": "2024-05-28T18:46:43.108299Z",
     "shell.execute_reply": "2024-05-28T18:46:43.107263Z"
    },
    "papermill": {
     "duration": 0.260407,
     "end_time": "2024-05-28T18:46:43.110547",
     "exception": false,
     "start_time": "2024-05-28T18:46:42.850140",
     "status": "completed"
    },
    "tags": []
   },
   "outputs": [
    {
     "data": {
      "text/plain": [
       "<Axes: xlabel='Survived', ylabel='count'>"
      ]
     },
     "execution_count": 9,
     "metadata": {},
     "output_type": "execute_result"
    },
    {
     "data": {
      "image/png": "[encoded data removed]",
      "text/plain": [
       "<Figure size 640x480 with 1 Axes>"
      ]
     },
     "metadata": {},
     "output_type": "display_data"
    }
   ],
   "source": [
    "sns.countplot(x='Survived', hue='Pclass', data=df)"
   ]
  },
  {
   "cell_type": "code",
   "execution_count": 10,
   "id": "1882da5b",
   "metadata": {
    "execution": {
     "iopub.execute_input": "2024-05-28T18:46:43.137502Z",
     "iopub.status.busy": "2024-05-28T18:46:43.137141Z",
     "iopub.status.idle": "2024-05-28T18:46:43.384697Z",
     "shell.execute_reply": "2024-05-28T18:46:43.383710Z"
    },
    "papermill": {
     "duration": 0.263508,
     "end_time": "2024-05-28T18:46:43.386824",
     "exception": false,
     "start_time": "2024-05-28T18:46:43.123316",
     "status": "completed"
    },
    "tags": []
   },
   "outputs": [
    {
     "name": "stderr",
     "output_type": "stream",
     "text": [
      "/tmp/ipykernel_19/727266079.py:1: UserWarning: \n",
      "\n",
      "`distplot` is a deprecated function and will be removed in seaborn v0.14.0.\n",
      "\n",
      "Please adapt your code to use either `displot` (a figure-level function with\n",
      "similar flexibility) or `histplot` (an axes-level function for histograms).\n",
      "\n",
      "For a guide to updating your code to use the new functions, please see\n",
      "https://gist.github.com/mwaskom/de44147ed2974457ad6372750bbe5751\n",
      "\n",
      "  sns.distplot(df['Age'], kde=False, bins=40)\n"
     ]
    },
    {
     "data": {
      "text/plain": [
       "<Axes: xlabel='Age'>"
      ]
     },
     "execution_count": 10,
     "metadata": {},
     "output_type": "execute_result"
    },
    {
     "data": {
      "image/png": "[encoded data removed]",
      "text/plain": [
       "<Figure size 640x480 with 1 Axes>"
      ]
     },
     "metadata": {},
     "output_type": "display_data"
    }
   ],
   "source": [
    "sns.distplot(df['Age'], kde=False, bins=40)"
   ]
  },
  {
   "cell_type": "code",
   "execution_count": 11,
   "id": "c06f7991",
   "metadata": {
    "execution": {
     "iopub.execute_input": "2024-05-28T18:46:43.414785Z",
     "iopub.status.busy": "2024-05-28T18:46:43.414122Z",
     "iopub.status.idle": "2024-05-28T18:46:43.595832Z",
     "shell.execute_reply": "2024-05-28T18:46:43.594695Z"
    },
    "papermill": {
     "duration": 0.19797,
     "end_time": "2024-05-28T18:46:43.597863",
     "exception": false,
     "start_time": "2024-05-28T18:46:43.399893",
     "status": "completed"
    },
    "tags": []
   },
   "outputs": [
    {
     "data": {
      "text/plain": [
       "<Axes: xlabel='SibSp', ylabel='count'>"
      ]
     },
     "execution_count": 11,
     "metadata": {},
     "output_type": "execute_result"
    },
    {
     "data": {
      "image/png": "[encoded data removed]",
      "text/plain": [
       "<Figure size 640x480 with 1 Axes>"
      ]
     },
     "metadata": {},
     "output_type": "display_data"
    }
   ],
   "source": [
    "sns.countplot(x='SibSp', data=df)"
   ]
  },
  {
   "cell_type": "code",
   "execution_count": 12,
   "id": "53255bd6",
   "metadata": {
    "execution": {
     "iopub.execute_input": "2024-05-28T18:46:43.626450Z",
     "iopub.status.busy": "2024-05-28T18:46:43.625816Z",
     "iopub.status.idle": "2024-05-28T18:46:43.872998Z",
     "shell.execute_reply": "2024-05-28T18:46:43.871932Z"
    },
    "papermill": {
     "duration": 0.263471,
     "end_time": "2024-05-28T18:46:43.874933",
     "exception": false,
     "start_time": "2024-05-28T18:46:43.611462",
     "status": "completed"
    },
    "tags": []
   },
   "outputs": [
    {
     "name": "stderr",
     "output_type": "stream",
     "text": [
      "/tmp/ipykernel_19/4223837124.py:1: UserWarning: \n",
      "\n",
      "`distplot` is a deprecated function and will be removed in seaborn v0.14.0.\n",
      "\n",
      "Please adapt your code to use either `displot` (a figure-level function with\n",
      "similar flexibility) or `histplot` (an axes-level function for histograms).\n",
      "\n",
      "For a guide to updating your code to use the new functions, please see\n",
      "https://gist.github.com/mwaskom/de44147ed2974457ad6372750bbe5751\n",
      "\n",
      "  sns.distplot(df['Fare'], kde=False,color='green', bins=40)\n"
     ]
    },
    {
     "data": {
      "text/plain": [
       "<Axes: xlabel='Fare'>"
      ]
     },
     "execution_count": 12,
     "metadata": {},
     "output_type": "execute_result"
    },
    {
     "data": {
      "image/png": "[encoded data removed]",
      "text/plain": [
       "<Figure size 640x480 with 1 Axes>"
      ]
     },
     "metadata": {},
     "output_type": "display_data"
    }
   ],
   "source": [
    "sns.distplot(df['Fare'], kde=False,color='green', bins=40)"
   ]
  },
  {
   "cell_type": "code",
   "execution_count": 13,
   "id": "79a0fb12",
   "metadata": {
    "execution": {
     "iopub.execute_input": "2024-05-28T18:46:43.904618Z",
     "iopub.status.busy": "2024-05-28T18:46:43.903841Z",
     "iopub.status.idle": "2024-05-28T18:46:44.096050Z",
     "shell.execute_reply": "2024-05-28T18:46:44.095017Z"
    },
    "papermill": {
     "duration": 0.209534,
     "end_time": "2024-05-28T18:46:44.098349",
     "exception": false,
     "start_time": "2024-05-28T18:46:43.888815",
     "status": "completed"
    },
    "tags": []
   },
   "outputs": [
    {
     "data": {
      "text/plain": [
       "<Axes: xlabel='Pclass', ylabel='Age'>"
      ]
     },
     "execution_count": 13,
     "metadata": {},
     "output_type": "execute_result"
    },
    {
     "data": {
      "image/png": "[encoded data removed]",
      "text/plain": [
       "<Figure size 640x480 with 1 Axes>"
      ]
     },
     "metadata": {},
     "output_type": "display_data"
    }
   ],
   "source": [
    "sns.boxplot(x='Pclass', y='Age', data=df)"
   ]
  },
  {
   "cell_type": "code",
   "execution_count": 14,
   "id": "e834fd9b",
   "metadata": {
    "execution": {
     "iopub.execute_input": "2024-05-28T18:46:44.128812Z",
     "iopub.status.busy": "2024-05-28T18:46:44.127912Z",
     "iopub.status.idle": "2024-05-28T18:46:44.132852Z",
     "shell.execute_reply": "2024-05-28T18:46:44.132184Z"
    },
    "papermill": {
     "duration": 0.022193,
     "end_time": "2024-05-28T18:46:44.134995",
     "exception": false,
     "start_time": "2024-05-28T18:46:44.112802",
     "status": "completed"
    },
    "tags": []
   },
   "outputs": [],
   "source": [
    "def impute_age(cols):\n",
    "  Age = cols[0]\n",
    "  Pclass= cols[1]\n",
    "  if pd.isnull(Age):\n",
    "    if Pclass == 1:\n",
    "      return 41\n",
    "    elif Pclass == 2:\n",
    "      return 26\n",
    "    else:\n",
    "      return 23\n",
    "  else:\n",
    "    return Age\n"
   ]
  },
  {
   "cell_type": "code",
   "execution_count": 15,
   "id": "7afd02b4",
   "metadata": {
    "execution": {
     "iopub.execute_input": "2024-05-28T18:46:44.165181Z",
     "iopub.status.busy": "2024-05-28T18:46:44.164493Z",
     "iopub.status.idle": "2024-05-28T18:46:44.188138Z",
     "shell.execute_reply": "2024-05-28T18:46:44.187159Z"
    },
    "papermill": {
     "duration": 0.041039,
     "end_time": "2024-05-28T18:46:44.190324",
     "exception": false,
     "start_time": "2024-05-28T18:46:44.149285",
     "status": "completed"
    },
    "tags": []
   },
   "outputs": [
    {
     "name": "stderr",
     "output_type": "stream",
     "text": [
      "/tmp/ipykernel_19/1749589638.py:2: FutureWarning: Series.__getitem__ treating keys as positions is deprecated. In a future version, integer keys will always be treated as labels (consistent with DataFrame behavior). To access a value by position, use `ser.iloc[pos]`\n",
      "  Age = cols[0]\n",
      "/tmp/ipykernel_19/1749589638.py:3: FutureWarning: Series.__getitem__ treating keys as positions is deprecated. In a future version, integer keys will always be treated as labels (consistent with DataFrame behavior). To access a value by position, use `ser.iloc[pos]`\n",
      "  Pclass= cols[1]\n"
     ]
    }
   ],
   "source": [
    "df['Age'] = df[['Age', 'Pclass']].apply(impute_age, axis=1)"
   ]
  },
  {
   "cell_type": "code",
   "execution_count": 16,
   "id": "4af19b22",
   "metadata": {
    "execution": {
     "iopub.execute_input": "2024-05-28T18:46:44.221197Z",
     "iopub.status.busy": "2024-05-28T18:46:44.220268Z",
     "iopub.status.idle": "2024-05-28T18:46:44.680260Z",
     "shell.execute_reply": "2024-05-28T18:46:44.679380Z"
    },
    "papermill": {
     "duration": 0.477646,
     "end_time": "2024-05-28T18:46:44.682344",
     "exception": false,
     "start_time": "2024-05-28T18:46:44.204698",
     "status": "completed"
    },
    "tags": []
   },
   "outputs": [
    {
     "data": {
      "text/plain": [
       "<Axes: >"
      ]
     },
     "execution_count": 16,
     "metadata": {},
     "output_type": "execute_result"
    },
    {
     "data": {
      "image/png": "[encoded data removed]",
      "text/plain": [
       "<Figure size 640x480 with 2 Axes>"
      ]
     },
     "metadata": {},
     "output_type": "display_data"
    }
   ],
   "source": [
    "sns.heatmap(df.isnull())"
   ]
  },
  {
   "cell_type": "code",
   "execution_count": 17,
   "id": "d588ce05",
   "metadata": {
    "execution": {
     "iopub.execute_input": "2024-05-28T18:46:44.714047Z",
     "iopub.status.busy": "2024-05-28T18:46:44.713697Z",
     "iopub.status.idle": "2024-05-28T18:46:44.720684Z",
     "shell.execute_reply": "2024-05-28T18:46:44.719683Z"
    },
    "papermill": {
     "duration": 0.02507,
     "end_time": "2024-05-28T18:46:44.722748",
     "exception": false,
     "start_time": "2024-05-28T18:46:44.697678",
     "status": "completed"
    },
    "tags": []
   },
   "outputs": [],
   "source": [
    "df.drop('Cabin', axis=1, inplace=True)"
   ]
  },
  {
   "cell_type": "code",
   "execution_count": 18,
   "id": "5694b490",
   "metadata": {
    "execution": {
     "iopub.execute_input": "2024-05-28T18:46:44.754500Z",
     "iopub.status.busy": "2024-05-28T18:46:44.753777Z",
     "iopub.status.idle": "2024-05-28T18:46:44.767457Z",
     "shell.execute_reply": "2024-05-28T18:46:44.766494Z"
    },
    "papermill": {
     "duration": 0.031767,
     "end_time": "2024-05-28T18:46:44.769408",
     "exception": false,
     "start_time": "2024-05-28T18:46:44.737641",
     "status": "completed"
    },
    "tags": []
   },
   "outputs": [
    {
     "data": {
      "text/html": [
       "<div>\n",
       "<style scoped>\n",
       "    .dataframe tbody tr th:only-of-type {\n",
       "        vertical-align: middle;\n",
       "    }\n",
       "\n",
       "    .dataframe tbody tr th {\n",
       "        vertical-align: top;\n",
       "    }\n",
       "\n",
       "    .dataframe thead th {\n",
       "        text-align: right;\n",
       "    }\n",
       "</style>\n",
       "<table border=\"1\" class=\"dataframe\">\n",
       "  <thead>\n",
       "    <tr style=\"text-align: right;\">\n",
       "      <th></th>\n",
       "      <th>PassengerId</th>\n",
       "      <th>Survived</th>\n",
       "      <th>Pclass</th>\n",
       "      <th>Name</th>\n",
       "      <th>Sex</th>\n",
       "      <th>Age</th>\n",
       "      <th>SibSp</th>\n",
       "      <th>Parch</th>\n",
       "      <th>Ticket</th>\n",
       "      <th>Fare</th>\n",
       "      <th>Embarked</th>\n",
       "    </tr>\n",
       "  </thead>\n",
       "  <tbody>\n",
       "    <tr>\n",
       "      <th>0</th>\n",
       "      <td>892</td>\n",
       "      <td>0</td>\n",
       "      <td>3</td>\n",
       "      <td>Kelly, Mr. James</td>\n",
       "      <td>male</td>\n",
       "      <td>34.5</td>\n",
       "      <td>0</td>\n",
       "      <td>0</td>\n",
       "      <td>330911</td>\n",
       "      <td>7.8292</td>\n",
       "      <td>Q</td>\n",
       "    </tr>\n",
       "    <tr>\n",
       "      <th>1</th>\n",
       "      <td>893</td>\n",
       "      <td>1</td>\n",
       "      <td>3</td>\n",
       "      <td>Wilkes, Mrs. James (Ellen Needs)</td>\n",
       "      <td>female</td>\n",
       "      <td>47.0</td>\n",
       "      <td>1</td>\n",
       "      <td>0</td>\n",
       "      <td>363272</td>\n",
       "      <td>7.0000</td>\n",
       "      <td>S</td>\n",
       "    </tr>\n",
       "    <tr>\n",
       "      <th>2</th>\n",
       "      <td>894</td>\n",
       "      <td>0</td>\n",
       "      <td>2</td>\n",
       "      <td>Myles, Mr. Thomas Francis</td>\n",
       "      <td>male</td>\n",
       "      <td>62.0</td>\n",
       "      <td>0</td>\n",
       "      <td>0</td>\n",
       "      <td>240276</td>\n",
       "      <td>9.6875</td>\n",
       "      <td>Q</td>\n",
       "    </tr>\n",
       "  </tbody>\n",
       "</table>\n",
       "</div>"
      ],
      "text/plain": [
       "   PassengerId  Survived  Pclass                              Name     Sex  \\\n",
       "0          892         0       3                  Kelly, Mr. James    male   \n",
       "1          893         1       3  Wilkes, Mrs. James (Ellen Needs)  female   \n",
       "2          894         0       2         Myles, Mr. Thomas Francis    male   \n",
       "\n",
       "    Age  SibSp  Parch  Ticket    Fare Embarked  \n",
       "0  34.5      0      0  330911  7.8292        Q  \n",
       "1  47.0      1      0  363272  7.0000        S  \n",
       "2  62.0      0      0  240276  9.6875        Q  "
      ]
     },
     "execution_count": 18,
     "metadata": {},
     "output_type": "execute_result"
    }
   ],
   "source": [
    "df.head(3)"
   ]
  },
  {
   "cell_type": "code",
   "execution_count": 19,
   "id": "730607b8",
   "metadata": {
    "execution": {
     "iopub.execute_input": "2024-05-28T18:46:44.801762Z",
     "iopub.status.busy": "2024-05-28T18:46:44.800828Z",
     "iopub.status.idle": "2024-05-28T18:46:45.245854Z",
     "shell.execute_reply": "2024-05-28T18:46:45.245029Z"
    },
    "papermill": {
     "duration": 0.463151,
     "end_time": "2024-05-28T18:46:45.248095",
     "exception": false,
     "start_time": "2024-05-28T18:46:44.784944",
     "status": "completed"
    },
    "tags": []
   },
   "outputs": [
    {
     "data": {
      "text/plain": [
       "<Axes: >"
      ]
     },
     "execution_count": 19,
     "metadata": {},
     "output_type": "execute_result"
    },
    {
     "data": {
      "image/png": "[encoded data removed]",
      "text/plain": [
       "<Figure size 640x480 with 2 Axes>"
      ]
     },
     "metadata": {},
     "output_type": "display_data"
    }
   ],
   "source": [
    "sns.heatmap(df.isnull())"
   ]
  },
  {
   "cell_type": "code",
   "execution_count": 20,
   "id": "bc83aa6e",
   "metadata": {
    "execution": {
     "iopub.execute_input": "2024-05-28T18:46:45.282164Z",
     "iopub.status.busy": "2024-05-28T18:46:45.281822Z",
     "iopub.status.idle": "2024-05-28T18:46:45.297336Z",
     "shell.execute_reply": "2024-05-28T18:46:45.296168Z"
    },
    "papermill": {
     "duration": 0.03434,
     "end_time": "2024-05-28T18:46:45.299234",
     "exception": false,
     "start_time": "2024-05-28T18:46:45.264894",
     "status": "completed"
    },
    "tags": []
   },
   "outputs": [
    {
     "name": "stdout",
     "output_type": "stream",
     "text": [
      "<class 'pandas.core.frame.DataFrame'>\n",
      "RangeIndex: 418 entries, 0 to 417\n",
      "Data columns (total 11 columns):\n",
      " #   Column       Non-Null Count  Dtype  \n",
      "---  ------       --------------  -----  \n",
      " 0   PassengerId  418 non-null    int64  \n",
      " 1   Survived     418 non-null    int64  \n",
      " 2   Pclass       418 non-null    int64  \n",
      " 3   Name         418 non-null    object \n",
      " 4   Sex          418 non-null    object \n",
      " 5   Age          418 non-null    float64\n",
      " 6   SibSp        418 non-null    int64  \n",
      " 7   Parch        418 non-null    int64  \n",
      " 8   Ticket       418 non-null    object \n",
      " 9   Fare         417 non-null    float64\n",
      " 10  Embarked     418 non-null    object \n",
      "dtypes: float64(2), int64(5), object(4)\n",
      "memory usage: 36.0+ KB\n"
     ]
    }
   ],
   "source": [
    "df.info()"
   ]
  },
  {
   "cell_type": "code",
   "execution_count": 21,
   "id": "9859d108",
   "metadata": {
    "execution": {
     "iopub.execute_input": "2024-05-28T18:46:45.332926Z",
     "iopub.status.busy": "2024-05-28T18:46:45.332097Z",
     "iopub.status.idle": "2024-05-28T18:46:45.345822Z",
     "shell.execute_reply": "2024-05-28T18:46:45.344910Z"
    },
    "papermill": {
     "duration": 0.032618,
     "end_time": "2024-05-28T18:46:45.347721",
     "exception": false,
     "start_time": "2024-05-28T18:46:45.315103",
     "status": "completed"
    },
    "tags": []
   },
   "outputs": [
    {
     "data": {
      "text/html": [
       "<div>\n",
       "<style scoped>\n",
       "    .dataframe tbody tr th:only-of-type {\n",
       "        vertical-align: middle;\n",
       "    }\n",
       "\n",
       "    .dataframe tbody tr th {\n",
       "        vertical-align: top;\n",
       "    }\n",
       "\n",
       "    .dataframe thead th {\n",
       "        text-align: right;\n",
       "    }\n",
       "</style>\n",
       "<table border=\"1\" class=\"dataframe\">\n",
       "  <thead>\n",
       "    <tr style=\"text-align: right;\">\n",
       "      <th></th>\n",
       "      <th>PassengerId</th>\n",
       "      <th>Survived</th>\n",
       "      <th>Pclass</th>\n",
       "      <th>Name</th>\n",
       "      <th>Sex</th>\n",
       "      <th>Age</th>\n",
       "      <th>SibSp</th>\n",
       "      <th>Parch</th>\n",
       "      <th>Ticket</th>\n",
       "      <th>Fare</th>\n",
       "      <th>Embarked</th>\n",
       "    </tr>\n",
       "  </thead>\n",
       "  <tbody>\n",
       "    <tr>\n",
       "      <th>0</th>\n",
       "      <td>892</td>\n",
       "      <td>0</td>\n",
       "      <td>3</td>\n",
       "      <td>Kelly, Mr. James</td>\n",
       "      <td>male</td>\n",
       "      <td>34.5</td>\n",
       "      <td>0</td>\n",
       "      <td>0</td>\n",
       "      <td>330911</td>\n",
       "      <td>7.8292</td>\n",
       "      <td>Q</td>\n",
       "    </tr>\n",
       "    <tr>\n",
       "      <th>1</th>\n",
       "      <td>893</td>\n",
       "      <td>1</td>\n",
       "      <td>3</td>\n",
       "      <td>Wilkes, Mrs. James (Ellen Needs)</td>\n",
       "      <td>female</td>\n",
       "      <td>47.0</td>\n",
       "      <td>1</td>\n",
       "      <td>0</td>\n",
       "      <td>363272</td>\n",
       "      <td>7.0000</td>\n",
       "      <td>S</td>\n",
       "    </tr>\n",
       "    <tr>\n",
       "      <th>2</th>\n",
       "      <td>894</td>\n",
       "      <td>0</td>\n",
       "      <td>2</td>\n",
       "      <td>Myles, Mr. Thomas Francis</td>\n",
       "      <td>male</td>\n",
       "      <td>62.0</td>\n",
       "      <td>0</td>\n",
       "      <td>0</td>\n",
       "      <td>240276</td>\n",
       "      <td>9.6875</td>\n",
       "      <td>Q</td>\n",
       "    </tr>\n",
       "    <tr>\n",
       "      <th>3</th>\n",
       "      <td>895</td>\n",
       "      <td>0</td>\n",
       "      <td>3</td>\n",
       "      <td>Wirz, Mr. Albert</td>\n",
       "      <td>male</td>\n",
       "      <td>27.0</td>\n",
       "      <td>0</td>\n",
       "      <td>0</td>\n",
       "      <td>315154</td>\n",
       "      <td>8.6625</td>\n",
       "      <td>S</td>\n",
       "    </tr>\n",
       "    <tr>\n",
       "      <th>4</th>\n",
       "      <td>896</td>\n",
       "      <td>1</td>\n",
       "      <td>3</td>\n",
       "      <td>Hirvonen, Mrs. Alexander (Helga E Lindqvist)</td>\n",
       "      <td>female</td>\n",
       "      <td>22.0</td>\n",
       "      <td>1</td>\n",
       "      <td>1</td>\n",
       "      <td>3101298</td>\n",
       "      <td>12.2875</td>\n",
       "      <td>S</td>\n",
       "    </tr>\n",
       "  </tbody>\n",
       "</table>\n",
       "</div>"
      ],
      "text/plain": [
       "   PassengerId  Survived  Pclass  \\\n",
       "0          892         0       3   \n",
       "1          893         1       3   \n",
       "2          894         0       2   \n",
       "3          895         0       3   \n",
       "4          896         1       3   \n",
       "\n",
       "                                           Name     Sex   Age  SibSp  Parch  \\\n",
       "0                              Kelly, Mr. James    male  34.5      0      0   \n",
       "1              Wilkes, Mrs. James (Ellen Needs)  female  47.0      1      0   \n",
       "2                     Myles, Mr. Thomas Francis    male  62.0      0      0   \n",
       "3                              Wirz, Mr. Albert    male  27.0      0      0   \n",
       "4  Hirvonen, Mrs. Alexander (Helga E Lindqvist)  female  22.0      1      1   \n",
       "\n",
       "    Ticket     Fare Embarked  \n",
       "0   330911   7.8292        Q  \n",
       "1   363272   7.0000        S  \n",
       "2   240276   9.6875        Q  \n",
       "3   315154   8.6625        S  \n",
       "4  3101298  12.2875        S  "
      ]
     },
     "execution_count": 21,
     "metadata": {},
     "output_type": "execute_result"
    }
   ],
   "source": [
    "df.head()"
   ]
  },
  {
   "cell_type": "code",
   "execution_count": 22,
   "id": "0cdd4054",
   "metadata": {
    "execution": {
     "iopub.execute_input": "2024-05-28T18:46:45.432927Z",
     "iopub.status.busy": "2024-05-28T18:46:45.432281Z",
     "iopub.status.idle": "2024-05-28T18:46:45.437810Z",
     "shell.execute_reply": "2024-05-28T18:46:45.437107Z"
    },
    "papermill": {
     "duration": 0.075764,
     "end_time": "2024-05-28T18:46:45.439532",
     "exception": false,
     "start_time": "2024-05-28T18:46:45.363768",
     "status": "completed"
    },
    "tags": []
   },
   "outputs": [
    {
     "data": {
      "text/plain": [
       "array(['Q', 'S', 'C'], dtype=object)"
      ]
     },
     "execution_count": 22,
     "metadata": {},
     "output_type": "execute_result"
    }
   ],
   "source": [
    "df['Embarked'].unique()"
   ]
  },
  {
   "cell_type": "code",
   "execution_count": 23,
   "id": "4b50493b",
   "metadata": {
    "execution": {
     "iopub.execute_input": "2024-05-28T18:46:45.474510Z",
     "iopub.status.busy": "2024-05-28T18:46:45.473522Z",
     "iopub.status.idle": "2024-05-28T18:46:45.483382Z",
     "shell.execute_reply": "2024-05-28T18:46:45.482548Z"
    },
    "papermill": {
     "duration": 0.029402,
     "end_time": "2024-05-28T18:46:45.485425",
     "exception": false,
     "start_time": "2024-05-28T18:46:45.456023",
     "status": "completed"
    },
    "tags": []
   },
   "outputs": [
    {
     "data": {
      "text/html": [
       "<div>\n",
       "<style scoped>\n",
       "    .dataframe tbody tr th:only-of-type {\n",
       "        vertical-align: middle;\n",
       "    }\n",
       "\n",
       "    .dataframe tbody tr th {\n",
       "        vertical-align: top;\n",
       "    }\n",
       "\n",
       "    .dataframe thead th {\n",
       "        text-align: right;\n",
       "    }\n",
       "</style>\n",
       "<table border=\"1\" class=\"dataframe\">\n",
       "  <thead>\n",
       "    <tr style=\"text-align: right;\">\n",
       "      <th></th>\n",
       "      <th>Q</th>\n",
       "      <th>S</th>\n",
       "    </tr>\n",
       "  </thead>\n",
       "  <tbody>\n",
       "    <tr>\n",
       "      <th>0</th>\n",
       "      <td>True</td>\n",
       "      <td>False</td>\n",
       "    </tr>\n",
       "    <tr>\n",
       "      <th>1</th>\n",
       "      <td>False</td>\n",
       "      <td>True</td>\n",
       "    </tr>\n",
       "    <tr>\n",
       "      <th>2</th>\n",
       "      <td>True</td>\n",
       "      <td>False</td>\n",
       "    </tr>\n",
       "    <tr>\n",
       "      <th>3</th>\n",
       "      <td>False</td>\n",
       "      <td>True</td>\n",
       "    </tr>\n",
       "    <tr>\n",
       "      <th>4</th>\n",
       "      <td>False</td>\n",
       "      <td>True</td>\n",
       "    </tr>\n",
       "  </tbody>\n",
       "</table>\n",
       "</div>"
      ],
      "text/plain": [
       "       Q      S\n",
       "0   True  False\n",
       "1  False   True\n",
       "2   True  False\n",
       "3  False   True\n",
       "4  False   True"
      ]
     },
     "execution_count": 23,
     "metadata": {},
     "output_type": "execute_result"
    }
   ],
   "source": [
    "pd.get_dummies(df['Embarked'], drop_first=True).head()"
   ]
  },
  {
   "cell_type": "code",
   "execution_count": 24,
   "id": "369b6ebf",
   "metadata": {
    "execution": {
     "iopub.execute_input": "2024-05-28T18:46:45.520230Z",
     "iopub.status.busy": "2024-05-28T18:46:45.519838Z",
     "iopub.status.idle": "2024-05-28T18:46:45.530271Z",
     "shell.execute_reply": "2024-05-28T18:46:45.529424Z"
    },
    "papermill": {
     "duration": 0.030018,
     "end_time": "2024-05-28T18:46:45.532096",
     "exception": false,
     "start_time": "2024-05-28T18:46:45.502078",
     "status": "completed"
    },
    "tags": []
   },
   "outputs": [
    {
     "data": {
      "text/html": [
       "<div>\n",
       "<style scoped>\n",
       "    .dataframe tbody tr th:only-of-type {\n",
       "        vertical-align: middle;\n",
       "    }\n",
       "\n",
       "    .dataframe tbody tr th {\n",
       "        vertical-align: top;\n",
       "    }\n",
       "\n",
       "    .dataframe thead th {\n",
       "        text-align: right;\n",
       "    }\n",
       "</style>\n",
       "<table border=\"1\" class=\"dataframe\">\n",
       "  <thead>\n",
       "    <tr style=\"text-align: right;\">\n",
       "      <th></th>\n",
       "      <th>male</th>\n",
       "    </tr>\n",
       "  </thead>\n",
       "  <tbody>\n",
       "    <tr>\n",
       "      <th>0</th>\n",
       "      <td>True</td>\n",
       "    </tr>\n",
       "    <tr>\n",
       "      <th>1</th>\n",
       "      <td>False</td>\n",
       "    </tr>\n",
       "    <tr>\n",
       "      <th>2</th>\n",
       "      <td>True</td>\n",
       "    </tr>\n",
       "    <tr>\n",
       "      <th>3</th>\n",
       "      <td>True</td>\n",
       "    </tr>\n",
       "    <tr>\n",
       "      <th>4</th>\n",
       "      <td>False</td>\n",
       "    </tr>\n",
       "    <tr>\n",
       "      <th>...</th>\n",
       "      <td>...</td>\n",
       "    </tr>\n",
       "    <tr>\n",
       "      <th>413</th>\n",
       "      <td>True</td>\n",
       "    </tr>\n",
       "    <tr>\n",
       "      <th>414</th>\n",
       "      <td>False</td>\n",
       "    </tr>\n",
       "    <tr>\n",
       "      <th>415</th>\n",
       "      <td>True</td>\n",
       "    </tr>\n",
       "    <tr>\n",
       "      <th>416</th>\n",
       "      <td>True</td>\n",
       "    </tr>\n",
       "    <tr>\n",
       "      <th>417</th>\n",
       "      <td>True</td>\n",
       "    </tr>\n",
       "  </tbody>\n",
       "</table>\n",
       "<p>418 rows × 1 columns</p>\n",
       "</div>"
      ],
      "text/plain": [
       "      male\n",
       "0     True\n",
       "1    False\n",
       "2     True\n",
       "3     True\n",
       "4    False\n",
       "..     ...\n",
       "413   True\n",
       "414  False\n",
       "415   True\n",
       "416   True\n",
       "417   True\n",
       "\n",
       "[418 rows x 1 columns]"
      ]
     },
     "execution_count": 24,
     "metadata": {},
     "output_type": "execute_result"
    }
   ],
   "source": [
    "pd.get_dummies(df['Sex'], drop_first=True)"
   ]
  },
  {
   "cell_type": "code",
   "execution_count": 25,
   "id": "f95001aa",
   "metadata": {
    "execution": {
     "iopub.execute_input": "2024-05-28T18:46:45.567293Z",
     "iopub.status.busy": "2024-05-28T18:46:45.566609Z",
     "iopub.status.idle": "2024-05-28T18:46:45.572557Z",
     "shell.execute_reply": "2024-05-28T18:46:45.571779Z"
    },
    "papermill": {
     "duration": 0.025665,
     "end_time": "2024-05-28T18:46:45.574465",
     "exception": false,
     "start_time": "2024-05-28T18:46:45.548800",
     "status": "completed"
    },
    "tags": []
   },
   "outputs": [],
   "source": [
    "sex= pd.get_dummies(df['Sex'], drop_first=True)\n",
    "embark = pd.get_dummies(df['Embarked'], drop_first=True)"
   ]
  },
  {
   "cell_type": "code",
   "execution_count": 26,
   "id": "7ebb9e74",
   "metadata": {
    "execution": {
     "iopub.execute_input": "2024-05-28T18:46:45.609906Z",
     "iopub.status.busy": "2024-05-28T18:46:45.609307Z",
     "iopub.status.idle": "2024-05-28T18:46:45.614306Z",
     "shell.execute_reply": "2024-05-28T18:46:45.613552Z"
    },
    "papermill": {
     "duration": 0.024938,
     "end_time": "2024-05-28T18:46:45.616138",
     "exception": false,
     "start_time": "2024-05-28T18:46:45.591200",
     "status": "completed"
    },
    "tags": []
   },
   "outputs": [],
   "source": [
    "df.drop(['Sex', 'Embarked', 'Name', 'Ticket'], axis=1, inplace=True)"
   ]
  },
  {
   "cell_type": "code",
   "execution_count": 27,
   "id": "278633d1",
   "metadata": {
    "execution": {
     "iopub.execute_input": "2024-05-28T18:46:45.651601Z",
     "iopub.status.busy": "2024-05-28T18:46:45.651032Z",
     "iopub.status.idle": "2024-05-28T18:46:45.661788Z",
     "shell.execute_reply": "2024-05-28T18:46:45.660855Z"
    },
    "papermill": {
     "duration": 0.03081,
     "end_time": "2024-05-28T18:46:45.663692",
     "exception": false,
     "start_time": "2024-05-28T18:46:45.632882",
     "status": "completed"
    },
    "tags": []
   },
   "outputs": [
    {
     "data": {
      "text/html": [
       "<div>\n",
       "<style scoped>\n",
       "    .dataframe tbody tr th:only-of-type {\n",
       "        vertical-align: middle;\n",
       "    }\n",
       "\n",
       "    .dataframe tbody tr th {\n",
       "        vertical-align: top;\n",
       "    }\n",
       "\n",
       "    .dataframe thead th {\n",
       "        text-align: right;\n",
       "    }\n",
       "</style>\n",
       "<table border=\"1\" class=\"dataframe\">\n",
       "  <thead>\n",
       "    <tr style=\"text-align: right;\">\n",
       "      <th></th>\n",
       "      <th>PassengerId</th>\n",
       "      <th>Survived</th>\n",
       "      <th>Pclass</th>\n",
       "      <th>Age</th>\n",
       "      <th>SibSp</th>\n",
       "      <th>Parch</th>\n",
       "      <th>Fare</th>\n",
       "    </tr>\n",
       "  </thead>\n",
       "  <tbody>\n",
       "    <tr>\n",
       "      <th>0</th>\n",
       "      <td>892</td>\n",
       "      <td>0</td>\n",
       "      <td>3</td>\n",
       "      <td>34.5</td>\n",
       "      <td>0</td>\n",
       "      <td>0</td>\n",
       "      <td>7.8292</td>\n",
       "    </tr>\n",
       "    <tr>\n",
       "      <th>1</th>\n",
       "      <td>893</td>\n",
       "      <td>1</td>\n",
       "      <td>3</td>\n",
       "      <td>47.0</td>\n",
       "      <td>1</td>\n",
       "      <td>0</td>\n",
       "      <td>7.0000</td>\n",
       "    </tr>\n",
       "    <tr>\n",
       "      <th>2</th>\n",
       "      <td>894</td>\n",
       "      <td>0</td>\n",
       "      <td>2</td>\n",
       "      <td>62.0</td>\n",
       "      <td>0</td>\n",
       "      <td>0</td>\n",
       "      <td>9.6875</td>\n",
       "    </tr>\n",
       "    <tr>\n",
       "      <th>3</th>\n",
       "      <td>895</td>\n",
       "      <td>0</td>\n",
       "      <td>3</td>\n",
       "      <td>27.0</td>\n",
       "      <td>0</td>\n",
       "      <td>0</td>\n",
       "      <td>8.6625</td>\n",
       "    </tr>\n",
       "    <tr>\n",
       "      <th>4</th>\n",
       "      <td>896</td>\n",
       "      <td>1</td>\n",
       "      <td>3</td>\n",
       "      <td>22.0</td>\n",
       "      <td>1</td>\n",
       "      <td>1</td>\n",
       "      <td>12.2875</td>\n",
       "    </tr>\n",
       "  </tbody>\n",
       "</table>\n",
       "</div>"
      ],
      "text/plain": [
       "   PassengerId  Survived  Pclass   Age  SibSp  Parch     Fare\n",
       "0          892         0       3  34.5      0      0   7.8292\n",
       "1          893         1       3  47.0      1      0   7.0000\n",
       "2          894         0       2  62.0      0      0   9.6875\n",
       "3          895         0       3  27.0      0      0   8.6625\n",
       "4          896         1       3  22.0      1      1  12.2875"
      ]
     },
     "execution_count": 27,
     "metadata": {},
     "output_type": "execute_result"
    }
   ],
   "source": [
    "df.head()"
   ]
  },
  {
   "cell_type": "code",
   "execution_count": 28,
   "id": "02795e1c",
   "metadata": {
    "execution": {
     "iopub.execute_input": "2024-05-28T18:46:45.699160Z",
     "iopub.status.busy": "2024-05-28T18:46:45.698799Z",
     "iopub.status.idle": "2024-05-28T18:46:45.704054Z",
     "shell.execute_reply": "2024-05-28T18:46:45.703036Z"
    },
    "papermill": {
     "duration": 0.025637,
     "end_time": "2024-05-28T18:46:45.706218",
     "exception": false,
     "start_time": "2024-05-28T18:46:45.680581",
     "status": "completed"
    },
    "tags": []
   },
   "outputs": [],
   "source": [
    "df= pd.concat([df, sex, embark], axis=1)"
   ]
  },
  {
   "cell_type": "code",
   "execution_count": 29,
   "id": "aa4ac479",
   "metadata": {
    "execution": {
     "iopub.execute_input": "2024-05-28T18:46:45.742353Z",
     "iopub.status.busy": "2024-05-28T18:46:45.741990Z",
     "iopub.status.idle": "2024-05-28T18:46:45.754542Z",
     "shell.execute_reply": "2024-05-28T18:46:45.753800Z"
    },
    "papermill": {
     "duration": 0.032433,
     "end_time": "2024-05-28T18:46:45.756291",
     "exception": false,
     "start_time": "2024-05-28T18:46:45.723858",
     "status": "completed"
    },
    "tags": []
   },
   "outputs": [
    {
     "data": {
      "text/html": [
       "<div>\n",
       "<style scoped>\n",
       "    .dataframe tbody tr th:only-of-type {\n",
       "        vertical-align: middle;\n",
       "    }\n",
       "\n",
       "    .dataframe tbody tr th {\n",
       "        vertical-align: top;\n",
       "    }\n",
       "\n",
       "    .dataframe thead th {\n",
       "        text-align: right;\n",
       "    }\n",
       "</style>\n",
       "<table border=\"1\" class=\"dataframe\">\n",
       "  <thead>\n",
       "    <tr style=\"text-align: right;\">\n",
       "      <th></th>\n",
       "      <th>PassengerId</th>\n",
       "      <th>Survived</th>\n",
       "      <th>Pclass</th>\n",
       "      <th>Age</th>\n",
       "      <th>SibSp</th>\n",
       "      <th>Parch</th>\n",
       "      <th>Fare</th>\n",
       "      <th>male</th>\n",
       "      <th>Q</th>\n",
       "      <th>S</th>\n",
       "    </tr>\n",
       "  </thead>\n",
       "  <tbody>\n",
       "    <tr>\n",
       "      <th>0</th>\n",
       "      <td>892</td>\n",
       "      <td>0</td>\n",
       "      <td>3</td>\n",
       "      <td>34.5</td>\n",
       "      <td>0</td>\n",
       "      <td>0</td>\n",
       "      <td>7.8292</td>\n",
       "      <td>True</td>\n",
       "      <td>True</td>\n",
       "      <td>False</td>\n",
       "    </tr>\n",
       "    <tr>\n",
       "      <th>1</th>\n",
       "      <td>893</td>\n",
       "      <td>1</td>\n",
       "      <td>3</td>\n",
       "      <td>47.0</td>\n",
       "      <td>1</td>\n",
       "      <td>0</td>\n",
       "      <td>7.0000</td>\n",
       "      <td>False</td>\n",
       "      <td>False</td>\n",
       "      <td>True</td>\n",
       "    </tr>\n",
       "    <tr>\n",
       "      <th>2</th>\n",
       "      <td>894</td>\n",
       "      <td>0</td>\n",
       "      <td>2</td>\n",
       "      <td>62.0</td>\n",
       "      <td>0</td>\n",
       "      <td>0</td>\n",
       "      <td>9.6875</td>\n",
       "      <td>True</td>\n",
       "      <td>True</td>\n",
       "      <td>False</td>\n",
       "    </tr>\n",
       "    <tr>\n",
       "      <th>3</th>\n",
       "      <td>895</td>\n",
       "      <td>0</td>\n",
       "      <td>3</td>\n",
       "      <td>27.0</td>\n",
       "      <td>0</td>\n",
       "      <td>0</td>\n",
       "      <td>8.6625</td>\n",
       "      <td>True</td>\n",
       "      <td>False</td>\n",
       "      <td>True</td>\n",
       "    </tr>\n",
       "    <tr>\n",
       "      <th>4</th>\n",
       "      <td>896</td>\n",
       "      <td>1</td>\n",
       "      <td>3</td>\n",
       "      <td>22.0</td>\n",
       "      <td>1</td>\n",
       "      <td>1</td>\n",
       "      <td>12.2875</td>\n",
       "      <td>False</td>\n",
       "      <td>False</td>\n",
       "      <td>True</td>\n",
       "    </tr>\n",
       "  </tbody>\n",
       "</table>\n",
       "</div>"
      ],
      "text/plain": [
       "   PassengerId  Survived  Pclass   Age  SibSp  Parch     Fare   male      Q  \\\n",
       "0          892         0       3  34.5      0      0   7.8292   True   True   \n",
       "1          893         1       3  47.0      1      0   7.0000  False  False   \n",
       "2          894         0       2  62.0      0      0   9.6875   True   True   \n",
       "3          895         0       3  27.0      0      0   8.6625   True  False   \n",
       "4          896         1       3  22.0      1      1  12.2875  False  False   \n",
       "\n",
       "       S  \n",
       "0  False  \n",
       "1   True  \n",
       "2  False  \n",
       "3   True  \n",
       "4   True  "
      ]
     },
     "execution_count": 29,
     "metadata": {},
     "output_type": "execute_result"
    }
   ],
   "source": [
    "df.head()"
   ]
  },
  {
   "cell_type": "code",
   "execution_count": 30,
   "id": "865bd527",
   "metadata": {
    "execution": {
     "iopub.execute_input": "2024-05-28T18:46:45.792904Z",
     "iopub.status.busy": "2024-05-28T18:46:45.791849Z",
     "iopub.status.idle": "2024-05-28T18:46:45.802196Z",
     "shell.execute_reply": "2024-05-28T18:46:45.801451Z"
    },
    "papermill": {
     "duration": 0.030947,
     "end_time": "2024-05-28T18:46:45.804392",
     "exception": false,
     "start_time": "2024-05-28T18:46:45.773445",
     "status": "completed"
    },
    "tags": []
   },
   "outputs": [
    {
     "name": "stdout",
     "output_type": "stream",
     "text": [
      "<class 'pandas.core.frame.DataFrame'>\n",
      "RangeIndex: 418 entries, 0 to 417\n",
      "Data columns (total 10 columns):\n",
      " #   Column       Non-Null Count  Dtype  \n",
      "---  ------       --------------  -----  \n",
      " 0   PassengerId  418 non-null    int64  \n",
      " 1   Survived     418 non-null    int64  \n",
      " 2   Pclass       418 non-null    int64  \n",
      " 3   Age          418 non-null    float64\n",
      " 4   SibSp        418 non-null    int64  \n",
      " 5   Parch        418 non-null    int64  \n",
      " 6   Fare         417 non-null    float64\n",
      " 7   male         418 non-null    bool   \n",
      " 8   Q            418 non-null    bool   \n",
      " 9   S            418 non-null    bool   \n",
      "dtypes: bool(3), float64(2), int64(5)\n",
      "memory usage: 24.2 KB\n"
     ]
    }
   ],
   "source": [
    "df.info()"
   ]
  },
  {
   "cell_type": "code",
   "execution_count": 31,
   "id": "d9bcf14b",
   "metadata": {
    "execution": {
     "iopub.execute_input": "2024-05-28T18:46:45.841093Z",
     "iopub.status.busy": "2024-05-28T18:46:45.840378Z",
     "iopub.status.idle": "2024-05-28T18:46:45.847199Z",
     "shell.execute_reply": "2024-05-28T18:46:45.846349Z"
    },
    "papermill": {
     "duration": 0.027273,
     "end_time": "2024-05-28T18:46:45.849077",
     "exception": false,
     "start_time": "2024-05-28T18:46:45.821804",
     "status": "completed"
    },
    "tags": []
   },
   "outputs": [
    {
     "data": {
      "text/plain": [
       "PassengerId    0\n",
       "Survived       0\n",
       "Pclass         0\n",
       "Age            0\n",
       "SibSp          0\n",
       "Parch          0\n",
       "Fare           1\n",
       "male           0\n",
       "Q              0\n",
       "S              0\n",
       "dtype: int64"
      ]
     },
     "execution_count": 31,
     "metadata": {},
     "output_type": "execute_result"
    }
   ],
   "source": [
    "df.isnull().sum()"
   ]
  },
  {
   "cell_type": "code",
   "execution_count": 32,
   "id": "ea42ca8a",
   "metadata": {
    "execution": {
     "iopub.execute_input": "2024-05-28T18:46:45.885846Z",
     "iopub.status.busy": "2024-05-28T18:46:45.885330Z",
     "iopub.status.idle": "2024-05-28T18:46:45.892632Z",
     "shell.execute_reply": "2024-05-28T18:46:45.891709Z"
    },
    "papermill": {
     "duration": 0.028286,
     "end_time": "2024-05-28T18:46:45.894728",
     "exception": false,
     "start_time": "2024-05-28T18:46:45.866442",
     "status": "completed"
    },
    "tags": []
   },
   "outputs": [
    {
     "name": "stderr",
     "output_type": "stream",
     "text": [
      "/tmp/ipykernel_19/3872763916.py:1: FutureWarning: A value is trying to be set on a copy of a DataFrame or Series through chained assignment using an inplace method.\n",
      "The behavior will change in pandas 3.0. This inplace method will never work because the intermediate object on which we are setting values always behaves as a copy.\n",
      "\n",
      "For example, when doing 'df[col].method(value, inplace=True)', try using 'df.method({col: value}, inplace=True)' or df[col] = df[col].method(value) instead, to perform the operation inplace on the original object.\n",
      "\n",
      "\n",
      "  df['Fare'].fillna(df['Fare'].mode()[0],inplace=True)\n"
     ]
    }
   ],
   "source": [
    "df['Fare'].fillna(df['Fare'].mode()[0],inplace=True)"
   ]
  },
  {
   "cell_type": "code",
   "execution_count": 33,
   "id": "bfd2a6a6",
   "metadata": {
    "execution": {
     "iopub.execute_input": "2024-05-28T18:46:45.931624Z",
     "iopub.status.busy": "2024-05-28T18:46:45.931266Z",
     "iopub.status.idle": "2024-05-28T18:46:45.938614Z",
     "shell.execute_reply": "2024-05-28T18:46:45.937895Z"
    },
    "papermill": {
     "duration": 0.027926,
     "end_time": "2024-05-28T18:46:45.940445",
     "exception": false,
     "start_time": "2024-05-28T18:46:45.912519",
     "status": "completed"
    },
    "tags": []
   },
   "outputs": [
    {
     "data": {
      "text/plain": [
       "PassengerId    0\n",
       "Survived       0\n",
       "Pclass         0\n",
       "Age            0\n",
       "SibSp          0\n",
       "Parch          0\n",
       "Fare           0\n",
       "male           0\n",
       "Q              0\n",
       "S              0\n",
       "dtype: int64"
      ]
     },
     "execution_count": 33,
     "metadata": {},
     "output_type": "execute_result"
    }
   ],
   "source": [
    "df.isnull().sum()"
   ]
  },
  {
   "cell_type": "code",
   "execution_count": 34,
   "id": "90e477b8",
   "metadata": {
    "execution": {
     "iopub.execute_input": "2024-05-28T18:46:45.978306Z",
     "iopub.status.busy": "2024-05-28T18:46:45.977379Z",
     "iopub.status.idle": "2024-05-28T18:46:45.982309Z",
     "shell.execute_reply": "2024-05-28T18:46:45.981616Z"
    },
    "papermill": {
     "duration": 0.025876,
     "end_time": "2024-05-28T18:46:45.984160",
     "exception": false,
     "start_time": "2024-05-28T18:46:45.958284",
     "status": "completed"
    },
    "tags": []
   },
   "outputs": [],
   "source": [
    "X=df.drop('Survived', axis=1)"
   ]
  },
  {
   "cell_type": "code",
   "execution_count": 35,
   "id": "864763d0",
   "metadata": {
    "execution": {
     "iopub.execute_input": "2024-05-28T18:46:46.029593Z",
     "iopub.status.busy": "2024-05-28T18:46:46.029092Z",
     "iopub.status.idle": "2024-05-28T18:46:46.035063Z",
     "shell.execute_reply": "2024-05-28T18:46:46.034090Z"
    },
    "papermill": {
     "duration": 0.029991,
     "end_time": "2024-05-28T18:46:46.037473",
     "exception": false,
     "start_time": "2024-05-28T18:46:46.007482",
     "status": "completed"
    },
    "tags": []
   },
   "outputs": [],
   "source": [
    "y=df['Survived']"
   ]
  },
  {
   "cell_type": "code",
   "execution_count": 36,
   "id": "3e7bb6d7",
   "metadata": {
    "execution": {
     "iopub.execute_input": "2024-05-28T18:46:46.076785Z",
     "iopub.status.busy": "2024-05-28T18:46:46.075832Z",
     "iopub.status.idle": "2024-05-28T18:46:46.322841Z",
     "shell.execute_reply": "2024-05-28T18:46:46.322024Z"
    },
    "papermill": {
     "duration": 0.2681,
     "end_time": "2024-05-28T18:46:46.325322",
     "exception": false,
     "start_time": "2024-05-28T18:46:46.057222",
     "status": "completed"
    },
    "tags": []
   },
   "outputs": [],
   "source": [
    "from sklearn.model_selection import train_test_split"
   ]
  },
  {
   "cell_type": "code",
   "execution_count": 37,
   "id": "45a8497d",
   "metadata": {
    "execution": {
     "iopub.execute_input": "2024-05-28T18:46:46.362385Z",
     "iopub.status.busy": "2024-05-28T18:46:46.362010Z",
     "iopub.status.idle": "2024-05-28T18:46:46.369635Z",
     "shell.execute_reply": "2024-05-28T18:46:46.368631Z"
    },
    "papermill": {
     "duration": 0.028294,
     "end_time": "2024-05-28T18:46:46.371510",
     "exception": false,
     "start_time": "2024-05-28T18:46:46.343216",
     "status": "completed"
    },
    "tags": []
   },
   "outputs": [],
   "source": [
    "X_train, X_test, y_train, y_test = train_test_split(X,y, test_size=0.3)"
   ]
  },
  {
   "cell_type": "code",
   "execution_count": 38,
   "id": "b0949095",
   "metadata": {
    "execution": {
     "iopub.execute_input": "2024-05-28T18:46:46.419298Z",
     "iopub.status.busy": "2024-05-28T18:46:46.418130Z",
     "iopub.status.idle": "2024-05-28T18:46:46.512807Z",
     "shell.execute_reply": "2024-05-28T18:46:46.511780Z"
    },
    "papermill": {
     "duration": 0.123294,
     "end_time": "2024-05-28T18:46:46.515135",
     "exception": false,
     "start_time": "2024-05-28T18:46:46.391841",
     "status": "completed"
    },
    "tags": []
   },
   "outputs": [],
   "source": [
    "from sklearn.linear_model import LogisticRegression"
   ]
  },
  {
   "cell_type": "code",
   "execution_count": 39,
   "id": "a2a4ac3b",
   "metadata": {
    "execution": {
     "iopub.execute_input": "2024-05-28T18:46:46.552768Z",
     "iopub.status.busy": "2024-05-28T18:46:46.551664Z",
     "iopub.status.idle": "2024-05-28T18:46:46.586910Z",
     "shell.execute_reply": "2024-05-28T18:46:46.585716Z"
    },
    "papermill": {
     "duration": 0.056168,
     "end_time": "2024-05-28T18:46:46.589181",
     "exception": false,
     "start_time": "2024-05-28T18:46:46.533013",
     "status": "completed"
    },
    "tags": []
   },
   "outputs": [
    {
     "name": "stderr",
     "output_type": "stream",
     "text": [
      "/opt/conda/lib/python3.10/site-packages/sklearn/linear_model/_logistic.py:458: ConvergenceWarning: lbfgs failed to converge (status=1):\n",
      "STOP: TOTAL NO. of ITERATIONS REACHED LIMIT.\n",
      "\n",
      "Increase the number of iterations (max_iter) or scale the data as shown in:\n",
      "    https://scikit-learn.org/stable/modules/preprocessing.html\n",
      "Please also refer to the documentation for alternative solver options:\n",
      "    https://scikit-learn.org/stable/modules/linear_model.html#logistic-regression\n",
      "  n_iter_i = _check_optimize_result(\n"
     ]
    },
    {
     "data": {
      "text/html": [
       "<style>#sk-container-id-1 {color: black;background-color: white;}#sk-container-id-1 pre{padding: 0;}#sk-container-id-1 div.sk-toggleable {background-color: white;}#sk-container-id-1 label.sk-toggleable__label {cursor: pointer;display: block;width: 100%;margin-bottom: 0;padding: 0.3em;box-sizing: border-box;text-align: center;}#sk-container-id-1 label.sk-toggleable__label-arrow:before {content: \"▸\";float: left;margin-right: 0.25em;color: #696969;}#sk-container-id-1 label.sk-toggleable__label-arrow:hover:before {color: black;}#sk-container-id-1 div.sk-estimator:hover label.sk-toggleable__label-arrow:before {color: black;}#sk-container-id-1 div.sk-toggleable__content {max-height: 0;max-width: 0;overflow: hidden;text-align: left;background-color: #f0f8ff;}#sk-container-id-1 div.sk-toggleable__content pre {margin: 0.2em;color: black;border-radius: 0.25em;background-color: #f0f8ff;}#sk-container-id-1 input.sk-toggleable__control:checked~div.sk-toggleable__content {max-height: 200px;max-width: 100%;overflow: auto;}#sk-container-id-1 input.sk-toggleable__control:checked~label.sk-toggleable__label-arrow:before {content: \"▾\";}#sk-container-id-1 div.sk-estimator input.sk-toggleable__control:checked~label.sk-toggleable__label {background-color: #d4ebff;}#sk-container-id-1 div.sk-label input.sk-toggleable__control:checked~label.sk-toggleable__label {background-color: #d4ebff;}#sk-container-id-1 input.sk-hidden--visually {border: 0;clip: rect(1px 1px 1px 1px);clip: rect(1px, 1px, 1px, 1px);height: 1px;margin: -1px;overflow: hidden;padding: 0;position: absolute;width: 1px;}#sk-container-id-1 div.sk-estimator {font-family: monospace;background-color: #f0f8ff;border: 1px dotted black;border-radius: 0.25em;box-sizing: border-box;margin-bottom: 0.5em;}#sk-container-id-1 div.sk-estimator:hover {background-color: #d4ebff;}#sk-container-id-1 div.sk-parallel-item::after {content: \"\";width: 100%;border-bottom: 1px solid gray;flex-grow: 1;}#sk-container-id-1 div.sk-label:hover label.sk-toggleable__label {background-color: #d4ebff;}#sk-container-id-1 div.sk-serial::before {content: \"\";position: absolute;border-left: 1px solid gray;box-sizing: border-box;top: 0;bottom: 0;left: 50%;z-index: 0;}#sk-container-id-1 div.sk-serial {display: flex;flex-direction: column;align-items: center;background-color: white;padding-right: 0.2em;padding-left: 0.2em;position: relative;}#sk-container-id-1 div.sk-item {position: relative;z-index: 1;}#sk-container-id-1 div.sk-parallel {display: flex;align-items: stretch;justify-content: center;background-color: white;position: relative;}#sk-container-id-1 div.sk-item::before, #sk-container-id-1 div.sk-parallel-item::before {content: \"\";position: absolute;border-left: 1px solid gray;box-sizing: border-box;top: 0;bottom: 0;left: 50%;z-index: -1;}#sk-container-id-1 div.sk-parallel-item {display: flex;flex-direction: column;z-index: 1;position: relative;background-color: white;}#sk-container-id-1 div.sk-parallel-item:first-child::after {align-self: flex-end;width: 50%;}#sk-container-id-1 div.sk-parallel-item:last-child::after {align-self: flex-start;width: 50%;}#sk-container-id-1 div.sk-parallel-item:only-child::after {width: 0;}#sk-container-id-1 div.sk-dashed-wrapped {border: 1px dashed gray;margin: 0 0.4em 0.5em 0.4em;box-sizing: border-box;padding-bottom: 0.4em;background-color: white;}#sk-container-id-1 div.sk-label label {font-family: monospace;font-weight: bold;display: inline-block;line-height: 1.2em;}#sk-container-id-1 div.sk-label-container {text-align: center;}#sk-container-id-1 div.sk-container {/* jupyter's `normalize.less` sets `[hidden] { display: none; }` but bootstrap.min.css set `[hidden] { display: none !important; }` so we also need the `!important` here to be able to override the default hidden behavior on the sphinx rendered scikit-learn.org. See: https://github.com/scikit-learn/scikit-learn/issues/21755 */display: inline-block !important;position: relative;}#sk-container-id-1 div.sk-text-repr-fallback {display: none;}</style><div id=\"sk-container-id-1\" class=\"sk-top-container\"><div class=\"sk-text-repr-fallback\"><pre>LogisticRegression()</pre><b>In a Jupyter environment, please rerun this cell to show the HTML representation or trust the notebook. <br />On GitHub, the HTML representation is unable to render, please try loading this page with nbviewer.org.</b></div><div class=\"sk-container\" hidden><div class=\"sk-item\"><div class=\"sk-estimator sk-toggleable\"><input class=\"sk-toggleable__control sk-hidden--visually\" id=\"sk-estimator-id-1\" type=\"checkbox\" checked><label for=\"sk-estimator-id-1\" class=\"sk-toggleable__label sk-toggleable__label-arrow\">LogisticRegression</label><div class=\"sk-toggleable__content\"><pre>LogisticRegression()</pre></div></div></div></div></div>"
      ],
      "text/plain": [
       "LogisticRegression()"
      ]
     },
     "execution_count": 39,
     "metadata": {},
     "output_type": "execute_result"
    }
   ],
   "source": [
    "logmodel = LogisticRegression()\n",
    "logmodel.fit(X_train,y_train)"
   ]
  },
  {
   "cell_type": "code",
   "execution_count": 40,
   "id": "cdc67432",
   "metadata": {
    "execution": {
     "iopub.execute_input": "2024-05-28T18:46:46.627428Z",
     "iopub.status.busy": "2024-05-28T18:46:46.627075Z",
     "iopub.status.idle": "2024-05-28T18:46:46.633339Z",
     "shell.execute_reply": "2024-05-28T18:46:46.632362Z"
    },
    "papermill": {
     "duration": 0.027459,
     "end_time": "2024-05-28T18:46:46.635302",
     "exception": false,
     "start_time": "2024-05-28T18:46:46.607843",
     "status": "completed"
    },
    "tags": []
   },
   "outputs": [],
   "source": [
    "predictions = logmodel.predict(X_test)"
   ]
  },
  {
   "cell_type": "code",
   "execution_count": 41,
   "id": "aa7dde80",
   "metadata": {
    "execution": {
     "iopub.execute_input": "2024-05-28T18:46:46.672832Z",
     "iopub.status.busy": "2024-05-28T18:46:46.672493Z",
     "iopub.status.idle": "2024-05-28T18:46:46.676747Z",
     "shell.execute_reply": "2024-05-28T18:46:46.675750Z"
    },
    "papermill": {
     "duration": 0.025225,
     "end_time": "2024-05-28T18:46:46.678555",
     "exception": false,
     "start_time": "2024-05-28T18:46:46.653330",
     "status": "completed"
    },
    "tags": []
   },
   "outputs": [],
   "source": [
    "from sklearn.metrics import confusion_matrix"
   ]
  },
  {
   "cell_type": "code",
   "execution_count": 42,
   "id": "dfc24f11",
   "metadata": {
    "execution": {
     "iopub.execute_input": "2024-05-28T18:46:46.716060Z",
     "iopub.status.busy": "2024-05-28T18:46:46.715141Z",
     "iopub.status.idle": "2024-05-28T18:46:46.721108Z",
     "shell.execute_reply": "2024-05-28T18:46:46.720393Z"
    },
    "papermill": {
     "duration": 0.026682,
     "end_time": "2024-05-28T18:46:46.723011",
     "exception": false,
     "start_time": "2024-05-28T18:46:46.696329",
     "status": "completed"
    },
    "tags": []
   },
   "outputs": [],
   "source": [
    "accuracy = confusion_matrix(y_test,predictions)"
   ]
  },
  {
   "cell_type": "code",
   "execution_count": 43,
   "id": "fc157896",
   "metadata": {
    "execution": {
     "iopub.execute_input": "2024-05-28T18:46:46.760439Z",
     "iopub.status.busy": "2024-05-28T18:46:46.759822Z",
     "iopub.status.idle": "2024-05-28T18:46:46.765948Z",
     "shell.execute_reply": "2024-05-28T18:46:46.765004Z"
    },
    "papermill": {
     "duration": 0.026817,
     "end_time": "2024-05-28T18:46:46.767874",
     "exception": false,
     "start_time": "2024-05-28T18:46:46.741057",
     "status": "completed"
    },
    "tags": []
   },
   "outputs": [
    {
     "data": {
      "text/plain": [
       "array([[75,  0],\n",
       "       [ 0, 51]])"
      ]
     },
     "execution_count": 43,
     "metadata": {},
     "output_type": "execute_result"
    }
   ],
   "source": [
    "accuracy"
   ]
  },
  {
   "cell_type": "code",
   "execution_count": 44,
   "id": "a4969406",
   "metadata": {
    "execution": {
     "iopub.execute_input": "2024-05-28T18:46:46.805323Z",
     "iopub.status.busy": "2024-05-28T18:46:46.804529Z",
     "iopub.status.idle": "2024-05-28T18:46:46.808478Z",
     "shell.execute_reply": "2024-05-28T18:46:46.807796Z"
    },
    "papermill": {
     "duration": 0.024461,
     "end_time": "2024-05-28T18:46:46.810299",
     "exception": false,
     "start_time": "2024-05-28T18:46:46.785838",
     "status": "completed"
    },
    "tags": []
   },
   "outputs": [],
   "source": [
    "from sklearn.metrics import accuracy_score"
   ]
  },
  {
   "cell_type": "code",
   "execution_count": 45,
   "id": "5e42f8e8",
   "metadata": {
    "execution": {
     "iopub.execute_input": "2024-05-28T18:46:46.848186Z",
     "iopub.status.busy": "2024-05-28T18:46:46.847528Z",
     "iopub.status.idle": "2024-05-28T18:46:46.853699Z",
     "shell.execute_reply": "2024-05-28T18:46:46.853016Z"
    },
    "papermill": {
     "duration": 0.027114,
     "end_time": "2024-05-28T18:46:46.855597",
     "exception": false,
     "start_time": "2024-05-28T18:46:46.828483",
     "status": "completed"
    },
    "tags": []
   },
   "outputs": [
    {
     "data": {
      "text/plain": [
       "1.0"
      ]
     },
     "execution_count": 45,
     "metadata": {},
     "output_type": "execute_result"
    }
   ],
   "source": [
    "accuracy = accuracy_score(y_test, predictions)\n",
    "accuracy"
   ]
  },
  {
   "cell_type": "code",
   "execution_count": 46,
   "id": "686eee85",
   "metadata": {
    "execution": {
     "iopub.execute_input": "2024-05-28T18:46:46.894476Z",
     "iopub.status.busy": "2024-05-28T18:46:46.893503Z",
     "iopub.status.idle": "2024-05-28T18:46:46.899947Z",
     "shell.execute_reply": "2024-05-28T18:46:46.898946Z"
    },
    "papermill": {
     "duration": 0.027893,
     "end_time": "2024-05-28T18:46:46.901964",
     "exception": false,
     "start_time": "2024-05-28T18:46:46.874071",
     "status": "completed"
    },
    "tags": []
   },
   "outputs": [
    {
     "data": {
      "text/plain": [
       "array([1, 1, 0, 0, 0, 0, 1, 0, 1, 1, 0, 1, 1, 1, 0, 1, 1, 0, 0, 1, 0, 1,\n",
       "       1, 0, 0, 0, 0, 0, 0, 1, 0, 0, 0, 0, 0, 0, 1, 0, 0, 0, 0, 1, 0, 0,\n",
       "       0, 0, 1, 1, 1, 0, 1, 0, 1, 0, 0, 0, 0, 0, 1, 1, 1, 0, 0, 1, 0, 0,\n",
       "       0, 0, 1, 0, 0, 1, 0, 1, 1, 0, 0, 0, 0, 1, 0, 0, 1, 0, 1, 1, 0, 0,\n",
       "       0, 0, 0, 1, 1, 1, 1, 0, 0, 1, 0, 0, 0, 0, 0, 0, 1, 1, 0, 1, 1, 0,\n",
       "       0, 1, 1, 1, 1, 1, 1, 0, 1, 0, 0, 0, 1, 0, 0, 1])"
      ]
     },
     "execution_count": 46,
     "metadata": {},
     "output_type": "execute_result"
    }
   ],
   "source": [
    "predictions"
   ]
  },
  {
   "cell_type": "code",
   "execution_count": 47,
   "id": "7b00c7fe",
   "metadata": {
    "execution": {
     "iopub.execute_input": "2024-05-28T18:46:46.942241Z",
     "iopub.status.busy": "2024-05-28T18:46:46.941575Z",
     "iopub.status.idle": "2024-05-28T18:46:46.946530Z",
     "shell.execute_reply": "2024-05-28T18:46:46.945733Z"
    },
    "papermill": {
     "duration": 0.027667,
     "end_time": "2024-05-28T18:46:46.948551",
     "exception": false,
     "start_time": "2024-05-28T18:46:46.920884",
     "status": "completed"
    },
    "tags": []
   },
   "outputs": [],
   "source": [
    "from sklearn import metrics"
   ]
  },
  {
   "cell_type": "code",
   "execution_count": 48,
   "id": "d48dae28",
   "metadata": {
    "execution": {
     "iopub.execute_input": "2024-05-28T18:46:46.987903Z",
     "iopub.status.busy": "2024-05-28T18:46:46.987517Z",
     "iopub.status.idle": "2024-05-28T18:46:46.993547Z",
     "shell.execute_reply": "2024-05-28T18:46:46.992751Z"
    },
    "papermill": {
     "duration": 0.028093,
     "end_time": "2024-05-28T18:46:46.995542",
     "exception": false,
     "start_time": "2024-05-28T18:46:46.967449",
     "status": "completed"
    },
    "tags": []
   },
   "outputs": [],
   "source": [
    "mae= metrics.mean_absolute_error(y_test,predictions)\n",
    "mse = metrics.mean_squared_error(y_test,predictions)"
   ]
  },
  {
   "cell_type": "code",
   "execution_count": 49,
   "id": "3bdd77c6",
   "metadata": {
    "execution": {
     "iopub.execute_input": "2024-05-28T18:46:47.034793Z",
     "iopub.status.busy": "2024-05-28T18:46:47.034446Z",
     "iopub.status.idle": "2024-05-28T18:46:47.039857Z",
     "shell.execute_reply": "2024-05-28T18:46:47.038610Z"
    },
    "papermill": {
     "duration": 0.027612,
     "end_time": "2024-05-28T18:46:47.041949",
     "exception": false,
     "start_time": "2024-05-28T18:46:47.014337",
     "status": "completed"
    },
    "tags": []
   },
   "outputs": [
    {
     "name": "stdout",
     "output_type": "stream",
     "text": [
      "0.0\n"
     ]
    }
   ],
   "source": [
    "print(mae)"
   ]
  },
  {
   "cell_type": "code",
   "execution_count": 50,
   "id": "4507970a",
   "metadata": {
    "execution": {
     "iopub.execute_input": "2024-05-28T18:46:47.080619Z",
     "iopub.status.busy": "2024-05-28T18:46:47.080009Z",
     "iopub.status.idle": "2024-05-28T18:46:47.085195Z",
     "shell.execute_reply": "2024-05-28T18:46:47.084186Z"
    },
    "papermill": {
     "duration": 0.026791,
     "end_time": "2024-05-28T18:46:47.087144",
     "exception": false,
     "start_time": "2024-05-28T18:46:47.060353",
     "status": "completed"
    },
    "tags": []
   },
   "outputs": [
    {
     "name": "stdout",
     "output_type": "stream",
     "text": [
      "0.0\n"
     ]
    }
   ],
   "source": [
    "print(mse)"
   ]
  },
  {
   "cell_type": "code",
   "execution_count": null,
   "id": "39d44ddb",
   "metadata": {
    "papermill": {
     "duration": 0.017955,
     "end_time": "2024-05-28T18:46:47.123331",
     "exception": false,
     "start_time": "2024-05-28T18:46:47.105376",
     "status": "completed"
    },
    "tags": []
   },
   "outputs": [],
   "source": []
  }
 ],
 "metadata": {
  "kaggle": {
   "accelerator": "none",
   "dataSources": [
    {
     "datasetId": 826163,
     "sourceId": 2879186,
     "sourceType": "datasetVersion"
    }
   ],
   "dockerImageVersionId": 30698,
   "isGpuEnabled": false,
   "isInternetEnabled": false,
   "language": "python",
   "sourceType": "notebook"
  },
  "kernelspec": {
   "display_name": "Python 3",
   "language": "python",
   "name": "python3"
  },
  "language_info": {
   "codemirror_mode": {
    "name": "ipython",
    "version": 3
   },
   "file_extension": ".py",
   "mimetype": "text/x-python",
   "name": "python",
   "nbconvert_exporter": "python",
   "pygments_lexer": "ipython3",
   "version": "3.10.13"
  },
  "papermill": {
   "default_parameters": {},
   "duration": 10.372668,
   "end_time": "2024-05-28T18:46:47.660783",
   "environment_variables": {},
   "exception": null,
   "input_path": "__notebook__.ipynb",
   "output_path": "__notebook__.ipynb",
   "parameters": {},
   "start_time": "2024-05-28T18:46:37.288115",
   "version": "2.5.0"
  }
 },
 "nbformat": 4,
 "nbformat_minor": 5
}
