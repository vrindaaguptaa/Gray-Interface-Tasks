{
 "cells": [
  {
   "cell_type": "code",
   "id": "initial_id",
   "metadata": {
    "collapsed": true,
    "jupyter": {
     "is_executing": true
    },
    "ExecuteTime": {
     "start_time": "2024-06-07T19:48:08.922169Z"
    }
   },
   "source": [
    "from diffusers import StableDiffusionPipeline\n",
    "import torch\n",
    "#loading the model from hugging face\n",
    "#we're going to use a pre-trained model that is already available\n",
    "model_id = \"runwayml/stable-diffusion-v1-5\"\n",
    "pipe = StableDiffusionPipeline.from_pretrained(model_id) #we use a pretrained model from hugging face\n",
    "pipe = pipe.to('cpu') #we move the model to the cpu"
   ],
   "outputs": [
    {
     "name": "stderr",
     "output_type": "stream",
     "text": [
      "Cannot initialize model with low cpu memory usage because `accelerate` was not found in the environment. Defaulting to `low_cpu_mem_usage=False`. It is strongly recommended to install `accelerate` for faster and less memory-intense model loading. You can do so with: \n",
      "```\n",
      "pip install accelerate\n",
      "```\n",
      ".\n"
     ]
    },
    {
     "data": {
      "text/plain": [
       "Loading pipeline components...:   0%|          | 0/7 [00:00<?, ?it/s]"
      ],
      "application/vnd.jupyter.widget-view+json": {
       "version_major": 2,
       "version_minor": 0,
       "model_id": "d83943d621f9428fb8deda4bb47d7d7f"
      }
     },
     "metadata": {},
     "output_type": "display_data"
    }
   ],
   "execution_count": null
  },
  {
   "metadata": {
    "ExecuteTime": {
     "end_time": "2024-06-07T18:39:39.932027Z",
     "start_time": "2024-06-07T18:39:39.923591Z"
    }
   },
   "cell_type": "code",
   "source": [
    "from PIL import Image\n",
    "import os\n",
    "os.makedirs(\"generated_images\",exist_ok=True)"
   ],
   "id": "f8ea59c2985322b2",
   "outputs": [],
   "execution_count": 2
  },
  {
   "metadata": {
    "ExecuteTime": {
     "end_time": "2024-06-07T18:42:17.364121Z",
     "start_time": "2024-06-07T18:42:17.361731Z"
    }
   },
   "cell_type": "code",
   "source": [
    "prompts = [\n",
    "    \"blue sunset over ocean\",\n",
    "    \"purple sunset over ocean\",\n",
    "    \"pink sunset over ocean\",\n",
    "    \"orange sunset over ocean\",\n",
    "    \"red sunset over ocean\"\n",
    "]"
   ],
   "id": "dc76e46446e0d2bc",
   "outputs": [],
   "execution_count": 3
  },
  {
   "metadata": {
    "ExecuteTime": {
     "end_time": "2024-06-07T19:25:00.518237Z",
     "start_time": "2024-06-07T18:44:07.149169Z"
    }
   },
   "cell_type": "code",
   "source": [
    "for i, prompt in enumerate(prompts):\n",
    "    image = pipe(prompt).images[0]\n",
    "    image_path=f\"generated_images/image_{i}.png\"\n",
    "    image.save(image_path)\n",
    "#generating images and saving them"
   ],
   "id": "3b90c0210a6876ac",
   "outputs": [
    {
     "data": {
      "text/plain": [
       "  0%|          | 0/50 [00:00<?, ?it/s]"
      ],
      "application/vnd.jupyter.widget-view+json": {
       "version_major": 2,
       "version_minor": 0,
       "model_id": "e9a3aa4f51fe4762af83f1f7c05d4a7f"
      }
     },
     "metadata": {},
     "output_type": "display_data"
    },
    {
     "data": {
      "text/plain": [
       "  0%|          | 0/50 [00:00<?, ?it/s]"
      ],
      "application/vnd.jupyter.widget-view+json": {
       "version_major": 2,
       "version_minor": 0,
       "model_id": "b27679208b664a1093d169a82c673f89"
      }
     },
     "metadata": {},
     "output_type": "display_data"
    },
    {
     "data": {
      "text/plain": [
       "  0%|          | 0/50 [00:00<?, ?it/s]"
      ],
      "application/vnd.jupyter.widget-view+json": {
       "version_major": 2,
       "version_minor": 0,
       "model_id": "de6dffc3044f43278a13c392110b06e3"
      }
     },
     "metadata": {},
     "output_type": "display_data"
    },
    {
     "data": {
      "text/plain": [
       "  0%|          | 0/50 [00:00<?, ?it/s]"
      ],
      "application/vnd.jupyter.widget-view+json": {
       "version_major": 2,
       "version_minor": 0,
       "model_id": "23527082f04e48dbb37e9dce6e501496"
      }
     },
     "metadata": {},
     "output_type": "display_data"
    },
    {
     "data": {
      "text/plain": [
       "  0%|          | 0/50 [00:00<?, ?it/s]"
      ],
      "application/vnd.jupyter.widget-view+json": {
       "version_major": 2,
       "version_minor": 0,
       "model_id": "532f6852663e41c68c35c53f950fedd4"
      }
     },
     "metadata": {},
     "output_type": "display_data"
    }
   ],
   "execution_count": 4
  },
  {
   "metadata": {
    "ExecuteTime": {
     "end_time": "2024-06-08T07:07:13.432134Z",
     "start_time": "2024-06-08T07:07:13.428757Z"
    }
   },
   "cell_type": "code",
   "source": "import os",
   "id": "143b344c53553d6b",
   "outputs": [],
   "execution_count": 4
  },
  {
   "metadata": {
    "ExecuteTime": {
     "end_time": "2024-06-08T07:15:36.358561Z",
     "start_time": "2024-06-08T07:15:36.355537Z"
    }
   },
   "cell_type": "code",
   "source": [
    "import cv2\n",
    "frame_size=(512,512)\n",
    "fps=24\n",
    "image_duration=2\n",
    "transition_duration=1\n",
    "#initializing the video writer\n",
    "video_path=\"animation.mp4\"\n",
    "fourcc=cv2.VideoWriter_fourcc(*\"mp4v\")\n",
    "video=cv2.VideoWriter(video_path, fourcc, fps, frame_size)"
   ],
   "id": "7deec0d5e97f55d2",
   "outputs": [],
   "execution_count": 15
  },
  {
   "metadata": {
    "ExecuteTime": {
     "end_time": "2024-06-08T07:07:16.262199Z",
     "start_time": "2024-06-08T07:07:16.257986Z"
    }
   },
   "cell_type": "code",
   "source": [
    "image_directory = \"generated_images\"\n",
    "image_paths=[os.path.join(image_directory,f) for f in sorted(os.listdir(image_directory)) if f.endswith(\".png\")]\n",
    "print(image_paths)"
   ],
   "id": "d551b7774c56894b",
   "outputs": [
    {
     "name": "stdout",
     "output_type": "stream",
     "text": [
      "['generated_images/image_0.png', 'generated_images/image_1.png', 'generated_images/image_2.png', 'generated_images/image_3.png', 'generated_images/image_4.png']\n"
     ]
    }
   ],
   "execution_count": 7
  },
  {
   "metadata": {
    "ExecuteTime": {
     "end_time": "2024-06-08T07:15:41.097701Z",
     "start_time": "2024-06-08T07:15:41.094533Z"
    }
   },
   "cell_type": "code",
   "source": "len(image_paths)",
   "id": "756823d85d2405b7",
   "outputs": [
    {
     "data": {
      "text/plain": [
       "5"
      ]
     },
     "execution_count": 16,
     "metadata": {},
     "output_type": "execute_result"
    }
   ],
   "execution_count": 16
  },
  {
   "metadata": {},
   "cell_type": "markdown",
   "source": "function to read the image at given path and resize it to the given frame size",
   "id": "982cb1d4320ba3a"
  },
  {
   "metadata": {
    "ExecuteTime": {
     "end_time": "2024-06-08T07:15:43.781621Z",
     "start_time": "2024-06-08T07:15:43.778319Z"
    }
   },
   "cell_type": "code",
   "source": [
    "def read_resize(image_path, frame_size):\n",
    "    img=cv2.imread(image_path)\n",
    "    img=cv2.resize(img, frame_size)\n",
    "    return img"
   ],
   "id": "ddc7ff50b3924fd7",
   "outputs": [],
   "execution_count": 17
  },
  {
   "metadata": {},
   "cell_type": "markdown",
   "source": "adding images with crossfade transitions",
   "id": "d4059602addf393"
  },
  {
   "metadata": {
    "ExecuteTime": {
     "end_time": "2024-06-08T07:15:45.701037Z",
     "start_time": "2024-06-08T07:15:45.378689Z"
    }
   },
   "cell_type": "code",
   "source": [
    "for i in range(len(image_paths)-1):\n",
    "    img1=read_resize(image_paths[i], frame_size)\n",
    "    img2=read_resize(image_paths[i+1], frame_size)\n",
    "    for _ in range(image_duration*fps):\n",
    "        video.write(img1)\n",
    "    for j in range(transition_duration*fps):\n",
    "        alpha=j/fps\n",
    "        blended_img=cv2.addWeighted(img1, 1-alpha, img2, alpha, 0)\n",
    "        video.write(blended_img)"
   ],
   "id": "c05a2936c47a1ab",
   "outputs": [],
   "execution_count": 18
  },
  {
   "metadata": {
    "ExecuteTime": {
     "end_time": "2024-06-08T07:17:37.743208Z",
     "start_time": "2024-06-08T07:17:37.686484Z"
    }
   },
   "cell_type": "code",
   "source": [
    "#adding the last image for the full duration\n",
    "last_image=read_resize(image_paths[-1],frame_size)\n",
    "for _ in range(image_duration*fps):\n",
    "    video.write(last_image)"
   ],
   "id": "1c01d87c46791499",
   "outputs": [],
   "execution_count": 20
  },
  {
   "metadata": {
    "ExecuteTime": {
     "end_time": "2024-06-08T07:17:44.320856Z",
     "start_time": "2024-06-08T07:17:44.317919Z"
    }
   },
   "cell_type": "code",
   "source": "video.release()",
   "id": "29e27d4ad47a6a3f",
   "outputs": [],
   "execution_count": 21
  }
 ],
 "metadata": {
  "kernelspec": {
   "display_name": "Python 3",
   "language": "python",
   "name": "python3"
  },
  "language_info": {
   "codemirror_mode": {
    "name": "ipython",
    "version": 2
   },
   "file_extension": ".py",
   "mimetype": "text/x-python",
   "name": "python",
   "nbconvert_exporter": "python",
   "pygments_lexer": "ipython2",
   "version": "2.7.6"
  }
 },
 "nbformat": 4,
 "nbformat_minor": 5
}
