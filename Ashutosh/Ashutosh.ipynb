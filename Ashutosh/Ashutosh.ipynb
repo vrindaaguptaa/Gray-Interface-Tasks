{
 "cells": [
  {
   "cell_type": "markdown",
   "metadata": {},
   "source": [
    "# Task2"
   ]
  },
  {
   "cell_type": "code",
   "execution_count": 28,
   "metadata": {},
   "outputs": [
    {
     "name": "stdout",
     "output_type": "stream",
     "text": [
      "hello hello hello heelo\n",
      " python pithon pygon\n",
      " python python python python "
     ]
    }
   ],
   "source": [
    "contents=[]\n",
    "with open('sample_text1.txt','r') as file:\n",
    "    for line in file:\n",
    "        print(line,end=' ')\n",
    "        contents.append(line)"
   ]
  },
  {
   "cell_type": "code",
   "execution_count": 29,
   "metadata": {},
   "outputs": [
    {
     "data": {
      "text/plain": [
       "['hello hello hello heelo\\n',\n",
       " 'python pithon pygon\\n',\n",
       " 'python python python python']"
      ]
     },
     "execution_count": 29,
     "metadata": {},
     "output_type": "execute_result"
    }
   ],
   "source": [
    "contents"
   ]
  },
  {
   "cell_type": "code",
   "execution_count": 30,
   "metadata": {},
   "outputs": [
    {
     "name": "stdout",
     "output_type": "stream",
     "text": [
      "I'm going to write into this "
     ]
    }
   ],
   "source": [
    "contents2=[]\n",
    "with open('sample_text2.txt','r') as file:\n",
    "    for line in file:\n",
    "        print(line,end=' ')\n",
    "        contents2.append(line)"
   ]
  },
  {
   "cell_type": "code",
   "execution_count": 31,
   "metadata": {},
   "outputs": [],
   "source": [
    "with open('sample_text2.txt','a') as file:\n",
    "    file.write('\\n')\n",
    "    for line in contents:\n",
    "        file.write(line)"
   ]
  },
  {
   "cell_type": "code",
   "execution_count": 32,
   "metadata": {},
   "outputs": [
    {
     "name": "stdout",
     "output_type": "stream",
     "text": [
      "I'm going to write into this\n",
      " hello hello hello heelo\n",
      " python pithon pygon\n",
      " python python python python "
     ]
    }
   ],
   "source": [
    "contents2=[]\n",
    "with open('sample_text2.txt','r') as file:\n",
    "    for line in file:\n",
    "        print(line,end=' ')\n",
    "        contents2.append(line)"
   ]
  },
  {
   "cell_type": "code",
   "execution_count": 33,
   "metadata": {},
   "outputs": [
    {
     "name": "stdout",
     "output_type": "stream",
     "text": [
      "File size in bytes:71\n"
     ]
    }
   ],
   "source": [
    "#to find file size\n",
    "import os\n",
    "file_path='sample_text1.txt'\n",
    "file_size=os.path.getsize(file_path)\n",
    "print(f'File size in bytes:{file_size}')"
   ]
  },
  {
   "cell_type": "code",
   "execution_count": 34,
   "metadata": {},
   "outputs": [],
   "source": [
    "lines_to_read=[1,2]"
   ]
  },
  {
   "cell_type": "markdown",
   "metadata": {},
   "source": [
    "To read specific lines:"
   ]
  },
  {
   "cell_type": "code",
   "execution_count": 35,
   "metadata": {},
   "outputs": [
    {
     "name": "stdout",
     "output_type": "stream",
     "text": [
      "The text in line 1 is hello hello hello heelo\n",
      "\n",
      "The text in line 2 is python pithon pygon\n",
      "\n"
     ]
    }
   ],
   "source": [
    "with open('sample_text1.txt', 'r') as file1:\n",
    "    for line_no,line_text in enumerate(file1,start=1):\n",
    "        if line_no in lines_to_read:\n",
    "            print(f'The text in line {line_no} is {line_text}')"
   ]
  },
  {
   "cell_type": "markdown",
   "metadata": {},
   "source": [
    "To find most common word:"
   ]
  },
  {
   "cell_type": "code",
   "execution_count": 36,
   "metadata": {},
   "outputs": [],
   "source": [
    "import pandas as pd"
   ]
  },
  {
   "cell_type": "code",
   "execution_count": 39,
   "metadata": {},
   "outputs": [],
   "source": [
    "with open('sample_text1.txt','r') as file1:\n",
    "    words=file1.read().split()\n",
    "w_Series=pd.Series(words)"
   ]
  },
  {
   "cell_type": "code",
   "execution_count": 46,
   "metadata": {},
   "outputs": [],
   "source": [
    "common=w_Series.value_counts()"
   ]
  },
  {
   "cell_type": "code",
   "execution_count": 48,
   "metadata": {},
   "outputs": [
    {
     "data": {
      "text/plain": [
       "'python'"
      ]
     },
     "execution_count": 48,
     "metadata": {},
     "output_type": "execute_result"
    }
   ],
   "source": [
    "common.index[0] #most common word"
   ]
  },
  {
   "cell_type": "code",
   "execution_count": 50,
   "metadata": {},
   "outputs": [],
   "source": [
    "diction={'hello':1,'mangrove':2,'zeph':3}"
   ]
  },
  {
   "cell_type": "code",
   "execution_count": 51,
   "metadata": {},
   "outputs": [],
   "source": [
    "import json\n",
    "with open('sample.json','a+') as file:\n",
    "    json.dump(diction,file)"
   ]
  },
  {
   "cell_type": "code",
   "execution_count": 54,
   "metadata": {},
   "outputs": [
    {
     "name": "stdout",
     "output_type": "stream",
     "text": [
      "{'hello': 1, 'mangrove': 2, 'zeph': 3}\n"
     ]
    }
   ],
   "source": [
    "with open('sample.json','r') as file:\n",
    "    print(json.load(file))"
   ]
  },
  {
   "cell_type": "markdown",
   "metadata": {},
   "source": [
    "# Task3"
   ]
  },
  {
   "cell_type": "code",
   "execution_count": null,
   "metadata": {},
   "outputs": [],
   "source": []
  },
  {
   "cell_type": "code",
   "execution_count": 1,
   "metadata": {},
   "outputs": [],
   "source": [
    "import numpy as np"
   ]
  },
  {
   "cell_type": "code",
   "execution_count": 15,
   "metadata": {},
   "outputs": [],
   "source": [
    "arr1=np.array([1,2,3,4,5,6])\n",
    "#To create a full array of specific shape and fill with a specific value\n",
    "arr3=np.full(shape=(3,3),fill_value=7)"
   ]
  },
  {
   "cell_type": "code",
   "execution_count": 3,
   "metadata": {},
   "outputs": [
    {
     "data": {
      "text/plain": [
       "array([1, 2, 3, 4, 5, 6])"
      ]
     },
     "execution_count": 3,
     "metadata": {},
     "output_type": "execute_result"
    }
   ],
   "source": [
    "arr1"
   ]
  },
  {
   "cell_type": "code",
   "execution_count": 16,
   "metadata": {},
   "outputs": [
    {
     "data": {
      "text/plain": [
       "array([[7, 7, 7],\n",
       "       [7, 7, 7],\n",
       "       [7, 7, 7]])"
      ]
     },
     "execution_count": 16,
     "metadata": {},
     "output_type": "execute_result"
    }
   ],
   "source": [
    "arr3"
   ]
  },
  {
   "cell_type": "code",
   "execution_count": 10,
   "metadata": {},
   "outputs": [
    {
     "data": {
      "text/plain": [
       "numpy.ndarray"
      ]
     },
     "execution_count": 10,
     "metadata": {},
     "output_type": "execute_result"
    }
   ],
   "source": [
    "type(arr1)"
   ]
  },
  {
   "cell_type": "code",
   "execution_count": 13,
   "metadata": {},
   "outputs": [],
   "source": [
    "arr2=np.empty((1,6),)"
   ]
  },
  {
   "cell_type": "code",
   "execution_count": 19,
   "metadata": {},
   "outputs": [
    {
     "data": {
      "text/plain": [
       "array([[2.7210493e-316, 0.0000000e+000, 5.8025718e-317, 5.8025718e-317,\n",
       "        5.7635959e-317, 5.7754337e-317]])"
      ]
     },
     "execution_count": 19,
     "metadata": {},
     "output_type": "execute_result"
    }
   ],
   "source": [
    "arr2 #filled with random values"
   ]
  },
  {
   "cell_type": "code",
   "execution_count": 20,
   "metadata": {},
   "outputs": [],
   "source": [
    "arr4=np.zeros((3,3))\n",
    "arr5=np.ones((3,3))"
   ]
  },
  {
   "cell_type": "code",
   "execution_count": 23,
   "metadata": {},
   "outputs": [
    {
     "data": {
      "text/plain": [
       "array([[0., 0., 0.],\n",
       "       [0., 0., 0.],\n",
       "       [0., 0., 0.]])"
      ]
     },
     "execution_count": 23,
     "metadata": {},
     "output_type": "execute_result"
    }
   ],
   "source": [
    "arr4 #default data type is float can change it"
   ]
  },
  {
   "cell_type": "code",
   "execution_count": 22,
   "metadata": {},
   "outputs": [
    {
     "data": {
      "text/plain": [
       "array([[1., 1., 1.],\n",
       "       [1., 1., 1.],\n",
       "       [1., 1., 1.]])"
      ]
     },
     "execution_count": 22,
     "metadata": {},
     "output_type": "execute_result"
    }
   ],
   "source": [
    "arr5"
   ]
  },
  {
   "cell_type": "code",
   "execution_count": 29,
   "metadata": {},
   "outputs": [
    {
     "data": {
      "text/plain": [
       "array([0, 0, 0, 4, 5, 6])"
      ]
     },
     "execution_count": 29,
     "metadata": {},
     "output_type": "execute_result"
    }
   ],
   "source": [
    "arr6=np.where(arr1>3,arr1,0)\n",
    "arr6\n",
    "#It keeps the arr elements that satisfies the given condtions and replaces the ones that don't satisfy with zero .. much like the ternary function"
   ]
  },
  {
   "cell_type": "code",
   "execution_count": 31,
   "metadata": {},
   "outputs": [
    {
     "data": {
      "text/plain": [
       "array([[1, 2, 3],\n",
       "       [4, 5, 6]])"
      ]
     },
     "execution_count": 31,
     "metadata": {},
     "output_type": "execute_result"
    }
   ],
   "source": [
    "arr7=arr1.reshape((2,3))\n",
    "arr7"
   ]
  },
  {
   "cell_type": "code",
   "execution_count": 32,
   "metadata": {},
   "outputs": [
    {
     "data": {
      "text/plain": [
       "6"
      ]
     },
     "execution_count": 32,
     "metadata": {},
     "output_type": "execute_result"
    }
   ],
   "source": [
    "np.max(arr7)\n",
    "#To get maximum value of a matrix"
   ]
  },
  {
   "cell_type": "markdown",
   "metadata": {},
   "source": [
    "# Task 4"
   ]
  },
  {
   "cell_type": "code",
   "execution_count": null,
   "metadata": {},
   "outputs": [],
   "source": []
  },
  {
   "cell_type": "code",
   "execution_count": 17,
   "metadata": {},
   "outputs": [],
   "source": [
    "import pandas as pd\n",
    "import numpy as np"
   ]
  },
  {
   "cell_type": "code",
   "execution_count": 18,
   "metadata": {},
   "outputs": [],
   "source": [
    "#df=pd.DataFrame(data=np.random.rand(10,3),columns=['Feature1','Feature2','Feature3'])\n",
    "#don't run it twice"
   ]
  },
  {
   "cell_type": "code",
   "execution_count": 19,
   "metadata": {},
   "outputs": [
    {
     "data": {
      "text/html": [
       "<div>\n",
       "<style scoped>\n",
       "    .dataframe tbody tr th:only-of-type {\n",
       "        vertical-align: middle;\n",
       "    }\n",
       "\n",
       "    .dataframe tbody tr th {\n",
       "        vertical-align: top;\n",
       "    }\n",
       "\n",
       "    .dataframe thead th {\n",
       "        text-align: right;\n",
       "    }\n",
       "</style>\n",
       "<table border=\"1\" class=\"dataframe\">\n",
       "  <thead>\n",
       "    <tr style=\"text-align: right;\">\n",
       "      <th></th>\n",
       "      <th>Feature1</th>\n",
       "      <th>Feature2</th>\n",
       "      <th>Feature3</th>\n",
       "    </tr>\n",
       "  </thead>\n",
       "  <tbody>\n",
       "    <tr>\n",
       "      <th>0</th>\n",
       "      <td>0.882603</td>\n",
       "      <td>0.191026</td>\n",
       "      <td>0.021996</td>\n",
       "    </tr>\n",
       "    <tr>\n",
       "      <th>1</th>\n",
       "      <td>0.679203</td>\n",
       "      <td>0.867745</td>\n",
       "      <td>0.866258</td>\n",
       "    </tr>\n",
       "    <tr>\n",
       "      <th>2</th>\n",
       "      <td>0.712027</td>\n",
       "      <td>0.502142</td>\n",
       "      <td>0.165822</td>\n",
       "    </tr>\n",
       "    <tr>\n",
       "      <th>3</th>\n",
       "      <td>0.873412</td>\n",
       "      <td>0.187734</td>\n",
       "      <td>0.552652</td>\n",
       "    </tr>\n",
       "    <tr>\n",
       "      <th>4</th>\n",
       "      <td>0.847340</td>\n",
       "      <td>0.962426</td>\n",
       "      <td>0.660890</td>\n",
       "    </tr>\n",
       "    <tr>\n",
       "      <th>5</th>\n",
       "      <td>0.213306</td>\n",
       "      <td>0.572916</td>\n",
       "      <td>0.505553</td>\n",
       "    </tr>\n",
       "    <tr>\n",
       "      <th>6</th>\n",
       "      <td>0.491513</td>\n",
       "      <td>0.283469</td>\n",
       "      <td>0.369442</td>\n",
       "    </tr>\n",
       "    <tr>\n",
       "      <th>7</th>\n",
       "      <td>0.579188</td>\n",
       "      <td>0.669197</td>\n",
       "      <td>0.259585</td>\n",
       "    </tr>\n",
       "    <tr>\n",
       "      <th>8</th>\n",
       "      <td>0.245683</td>\n",
       "      <td>0.173058</td>\n",
       "      <td>0.094537</td>\n",
       "    </tr>\n",
       "    <tr>\n",
       "      <th>9</th>\n",
       "      <td>0.631961</td>\n",
       "      <td>0.381867</td>\n",
       "      <td>0.832041</td>\n",
       "    </tr>\n",
       "  </tbody>\n",
       "</table>\n",
       "</div>"
      ],
      "text/plain": [
       "   Feature1  Feature2  Feature3\n",
       "0  0.882603  0.191026  0.021996\n",
       "1  0.679203  0.867745  0.866258\n",
       "2  0.712027  0.502142  0.165822\n",
       "3  0.873412  0.187734  0.552652\n",
       "4  0.847340  0.962426  0.660890\n",
       "5  0.213306  0.572916  0.505553\n",
       "6  0.491513  0.283469  0.369442\n",
       "7  0.579188  0.669197  0.259585\n",
       "8  0.245683  0.173058  0.094537\n",
       "9  0.631961  0.381867  0.832041"
      ]
     },
     "execution_count": 19,
     "metadata": {},
     "output_type": "execute_result"
    }
   ],
   "source": [
    "df"
   ]
  },
  {
   "cell_type": "code",
   "execution_count": 20,
   "metadata": {},
   "outputs": [
    {
     "data": {
      "text/plain": [
       "0    0.882603\n",
       "1    0.679203\n",
       "2    0.712027\n",
       "3    0.873412\n",
       "4    0.847340\n",
       "6    0.491513\n",
       "7    0.579188\n",
       "9    0.631961\n",
       "Name: Feature1, dtype: float64"
      ]
     },
     "execution_count": 20,
     "metadata": {},
     "output_type": "execute_result"
    }
   ],
   "source": [
    "#To split a column----we're splitting Feature1\n",
    "df[df['Feature1']>0.3]['Feature1']\n"
   ]
  },
  {
   "cell_type": "code",
   "execution_count": 21,
   "metadata": {},
   "outputs": [
    {
     "data": {
      "text/plain": [
       "Index([0, 1, 2, 3, 4, 6, 7, 9], dtype='int64')"
      ]
     },
     "execution_count": 21,
     "metadata": {},
     "output_type": "execute_result"
    }
   ],
   "source": [
    "#to return the index label\n",
    "df[df['Feature1']>0.3].index"
   ]
  },
  {
   "cell_type": "code",
   "execution_count": 35,
   "metadata": {},
   "outputs": [],
   "source": [
    "#to drop rows based on a certain condition\n",
    "index_of_rows_to_drop=df[df['Feature1']>0.7].index"
   ]
  },
  {
   "cell_type": "code",
   "execution_count": 36,
   "metadata": {},
   "outputs": [
    {
     "data": {
      "text/plain": [
       "Index([0, 2, 3, 4], dtype='int64')"
      ]
     },
     "execution_count": 36,
     "metadata": {},
     "output_type": "execute_result"
    }
   ],
   "source": [
    "index_of_rows_to_drop"
   ]
  },
  {
   "cell_type": "code",
   "execution_count": 37,
   "metadata": {},
   "outputs": [
    {
     "data": {
      "text/html": [
       "<div>\n",
       "<style scoped>\n",
       "    .dataframe tbody tr th:only-of-type {\n",
       "        vertical-align: middle;\n",
       "    }\n",
       "\n",
       "    .dataframe tbody tr th {\n",
       "        vertical-align: top;\n",
       "    }\n",
       "\n",
       "    .dataframe thead th {\n",
       "        text-align: right;\n",
       "    }\n",
       "</style>\n",
       "<table border=\"1\" class=\"dataframe\">\n",
       "  <thead>\n",
       "    <tr style=\"text-align: right;\">\n",
       "      <th></th>\n",
       "      <th>Feature1</th>\n",
       "      <th>Feature2</th>\n",
       "      <th>Feature3</th>\n",
       "    </tr>\n",
       "  </thead>\n",
       "  <tbody>\n",
       "    <tr>\n",
       "      <th>1</th>\n",
       "      <td>0.679203</td>\n",
       "      <td>0.867745</td>\n",
       "      <td>0.866258</td>\n",
       "    </tr>\n",
       "    <tr>\n",
       "      <th>5</th>\n",
       "      <td>0.213306</td>\n",
       "      <td>0.572916</td>\n",
       "      <td>0.505553</td>\n",
       "    </tr>\n",
       "    <tr>\n",
       "      <th>6</th>\n",
       "      <td>0.491513</td>\n",
       "      <td>0.283469</td>\n",
       "      <td>0.369442</td>\n",
       "    </tr>\n",
       "    <tr>\n",
       "      <th>7</th>\n",
       "      <td>0.579188</td>\n",
       "      <td>0.669197</td>\n",
       "      <td>0.259585</td>\n",
       "    </tr>\n",
       "    <tr>\n",
       "      <th>8</th>\n",
       "      <td>0.245683</td>\n",
       "      <td>0.173058</td>\n",
       "      <td>0.094537</td>\n",
       "    </tr>\n",
       "    <tr>\n",
       "      <th>9</th>\n",
       "      <td>0.631961</td>\n",
       "      <td>0.381867</td>\n",
       "      <td>0.832041</td>\n",
       "    </tr>\n",
       "  </tbody>\n",
       "</table>\n",
       "</div>"
      ],
      "text/plain": [
       "   Feature1  Feature2  Feature3\n",
       "1  0.679203  0.867745  0.866258\n",
       "5  0.213306  0.572916  0.505553\n",
       "6  0.491513  0.283469  0.369442\n",
       "7  0.579188  0.669197  0.259585\n",
       "8  0.245683  0.173058  0.094537\n",
       "9  0.631961  0.381867  0.832041"
      ]
     },
     "execution_count": 37,
     "metadata": {},
     "output_type": "execute_result"
    }
   ],
   "source": [
    "df.drop(index_of_rows_to_drop,axis=0)"
   ]
  },
  {
   "cell_type": "code",
   "execution_count": 38,
   "metadata": {},
   "outputs": [
    {
     "data": {
      "text/html": [
       "<div>\n",
       "<style scoped>\n",
       "    .dataframe tbody tr th:only-of-type {\n",
       "        vertical-align: middle;\n",
       "    }\n",
       "\n",
       "    .dataframe tbody tr th {\n",
       "        vertical-align: top;\n",
       "    }\n",
       "\n",
       "    .dataframe thead th {\n",
       "        text-align: right;\n",
       "    }\n",
       "</style>\n",
       "<table border=\"1\" class=\"dataframe\">\n",
       "  <thead>\n",
       "    <tr style=\"text-align: right;\">\n",
       "      <th></th>\n",
       "      <th>Feature1</th>\n",
       "      <th>Feature2</th>\n",
       "      <th>Feature3</th>\n",
       "    </tr>\n",
       "  </thead>\n",
       "  <tbody>\n",
       "    <tr>\n",
       "      <th>0</th>\n",
       "      <td>0.882603</td>\n",
       "      <td>0.191026</td>\n",
       "      <td>0.021996</td>\n",
       "    </tr>\n",
       "    <tr>\n",
       "      <th>1</th>\n",
       "      <td>0.679203</td>\n",
       "      <td>0.867745</td>\n",
       "      <td>0.866258</td>\n",
       "    </tr>\n",
       "    <tr>\n",
       "      <th>2</th>\n",
       "      <td>0.712027</td>\n",
       "      <td>0.502142</td>\n",
       "      <td>0.165822</td>\n",
       "    </tr>\n",
       "    <tr>\n",
       "      <th>3</th>\n",
       "      <td>0.873412</td>\n",
       "      <td>0.187734</td>\n",
       "      <td>0.552652</td>\n",
       "    </tr>\n",
       "    <tr>\n",
       "      <th>4</th>\n",
       "      <td>0.847340</td>\n",
       "      <td>0.962426</td>\n",
       "      <td>0.660890</td>\n",
       "    </tr>\n",
       "    <tr>\n",
       "      <th>5</th>\n",
       "      <td>0.213306</td>\n",
       "      <td>0.572916</td>\n",
       "      <td>0.505553</td>\n",
       "    </tr>\n",
       "    <tr>\n",
       "      <th>6</th>\n",
       "      <td>0.491513</td>\n",
       "      <td>0.283469</td>\n",
       "      <td>0.369442</td>\n",
       "    </tr>\n",
       "    <tr>\n",
       "      <th>7</th>\n",
       "      <td>0.579188</td>\n",
       "      <td>0.669197</td>\n",
       "      <td>0.259585</td>\n",
       "    </tr>\n",
       "    <tr>\n",
       "      <th>8</th>\n",
       "      <td>0.245683</td>\n",
       "      <td>0.173058</td>\n",
       "      <td>0.094537</td>\n",
       "    </tr>\n",
       "    <tr>\n",
       "      <th>9</th>\n",
       "      <td>0.631961</td>\n",
       "      <td>0.381867</td>\n",
       "      <td>0.832041</td>\n",
       "    </tr>\n",
       "  </tbody>\n",
       "</table>\n",
       "</div>"
      ],
      "text/plain": [
       "   Feature1  Feature2  Feature3\n",
       "0  0.882603  0.191026  0.021996\n",
       "1  0.679203  0.867745  0.866258\n",
       "2  0.712027  0.502142  0.165822\n",
       "3  0.873412  0.187734  0.552652\n",
       "4  0.847340  0.962426  0.660890\n",
       "5  0.213306  0.572916  0.505553\n",
       "6  0.491513  0.283469  0.369442\n",
       "7  0.579188  0.669197  0.259585\n",
       "8  0.245683  0.173058  0.094537\n",
       "9  0.631961  0.381867  0.832041"
      ]
     },
     "execution_count": 38,
     "metadata": {},
     "output_type": "execute_result"
    }
   ],
   "source": [
    "df1=df\n",
    "df1"
   ]
  },
  {
   "cell_type": "code",
   "execution_count": 41,
   "metadata": {},
   "outputs": [],
   "source": [
    "df1=df1.set_index('Feature1')"
   ]
  },
  {
   "cell_type": "code",
   "execution_count": 42,
   "metadata": {},
   "outputs": [
    {
     "data": {
      "text/html": [
       "<div>\n",
       "<style scoped>\n",
       "    .dataframe tbody tr th:only-of-type {\n",
       "        vertical-align: middle;\n",
       "    }\n",
       "\n",
       "    .dataframe tbody tr th {\n",
       "        vertical-align: top;\n",
       "    }\n",
       "\n",
       "    .dataframe thead th {\n",
       "        text-align: right;\n",
       "    }\n",
       "</style>\n",
       "<table border=\"1\" class=\"dataframe\">\n",
       "  <thead>\n",
       "    <tr style=\"text-align: right;\">\n",
       "      <th></th>\n",
       "      <th>Feature2</th>\n",
       "      <th>Feature3</th>\n",
       "    </tr>\n",
       "    <tr>\n",
       "      <th>Feature1</th>\n",
       "      <th></th>\n",
       "      <th></th>\n",
       "    </tr>\n",
       "  </thead>\n",
       "  <tbody>\n",
       "    <tr>\n",
       "      <th>0.882603</th>\n",
       "      <td>0.191026</td>\n",
       "      <td>0.021996</td>\n",
       "    </tr>\n",
       "    <tr>\n",
       "      <th>0.679203</th>\n",
       "      <td>0.867745</td>\n",
       "      <td>0.866258</td>\n",
       "    </tr>\n",
       "    <tr>\n",
       "      <th>0.712027</th>\n",
       "      <td>0.502142</td>\n",
       "      <td>0.165822</td>\n",
       "    </tr>\n",
       "    <tr>\n",
       "      <th>0.873412</th>\n",
       "      <td>0.187734</td>\n",
       "      <td>0.552652</td>\n",
       "    </tr>\n",
       "    <tr>\n",
       "      <th>0.847340</th>\n",
       "      <td>0.962426</td>\n",
       "      <td>0.660890</td>\n",
       "    </tr>\n",
       "    <tr>\n",
       "      <th>0.213306</th>\n",
       "      <td>0.572916</td>\n",
       "      <td>0.505553</td>\n",
       "    </tr>\n",
       "    <tr>\n",
       "      <th>0.491513</th>\n",
       "      <td>0.283469</td>\n",
       "      <td>0.369442</td>\n",
       "    </tr>\n",
       "    <tr>\n",
       "      <th>0.579188</th>\n",
       "      <td>0.669197</td>\n",
       "      <td>0.259585</td>\n",
       "    </tr>\n",
       "    <tr>\n",
       "      <th>0.245683</th>\n",
       "      <td>0.173058</td>\n",
       "      <td>0.094537</td>\n",
       "    </tr>\n",
       "    <tr>\n",
       "      <th>0.631961</th>\n",
       "      <td>0.381867</td>\n",
       "      <td>0.832041</td>\n",
       "    </tr>\n",
       "  </tbody>\n",
       "</table>\n",
       "</div>"
      ],
      "text/plain": [
       "          Feature2  Feature3\n",
       "Feature1                    \n",
       "0.882603  0.191026  0.021996\n",
       "0.679203  0.867745  0.866258\n",
       "0.712027  0.502142  0.165822\n",
       "0.873412  0.187734  0.552652\n",
       "0.847340  0.962426  0.660890\n",
       "0.213306  0.572916  0.505553\n",
       "0.491513  0.283469  0.369442\n",
       "0.579188  0.669197  0.259585\n",
       "0.245683  0.173058  0.094537\n",
       "0.631961  0.381867  0.832041"
      ]
     },
     "execution_count": 42,
     "metadata": {},
     "output_type": "execute_result"
    }
   ],
   "source": [
    "df1"
   ]
  },
  {
   "cell_type": "code",
   "execution_count": 44,
   "metadata": {},
   "outputs": [
    {
     "data": {
      "text/plain": [
       "Index([0.6792034245670601, 0.8473400423178544, 0.5791876689624775], dtype='float64', name='Feature1')"
      ]
     },
     "execution_count": 44,
     "metadata": {},
     "output_type": "execute_result"
    }
   ],
   "source": [
    "df1[df1['Feature2']>0.6].index"
   ]
  },
  {
   "cell_type": "markdown",
   "metadata": {},
   "source": [
    "# Task5"
   ]
  },
  {
   "cell_type": "code",
   "execution_count": null,
   "metadata": {},
   "outputs": [],
   "source": []
  },
  {
   "cell_type": "code",
   "execution_count": 2,
   "metadata": {},
   "outputs": [],
   "source": [
    "import seaborn as sns"
   ]
  },
  {
   "cell_type": "code",
   "execution_count": 3,
   "metadata": {},
   "outputs": [],
   "source": [
    "import inspect"
   ]
  },
  {
   "cell_type": "markdown",
   "metadata": {},
   "source": [
    "## 1. To get the parameters"
   ]
  },
  {
   "cell_type": "code",
   "execution_count": 4,
   "metadata": {},
   "outputs": [],
   "source": [
    "params=inspect.signature(sns.countplot).parameters\n",
    "params=list(params)"
   ]
  },
  {
   "cell_type": "code",
   "execution_count": 5,
   "metadata": {},
   "outputs": [
    {
     "data": {
      "text/plain": [
       "['data',\n",
       " 'x',\n",
       " 'y',\n",
       " 'hue',\n",
       " 'order',\n",
       " 'hue_order',\n",
       " 'orient',\n",
       " 'color',\n",
       " 'palette',\n",
       " 'saturation',\n",
       " 'fill',\n",
       " 'hue_norm',\n",
       " 'stat',\n",
       " 'width',\n",
       " 'dodge',\n",
       " 'gap',\n",
       " 'log_scale',\n",
       " 'native_scale',\n",
       " 'formatter',\n",
       " 'legend',\n",
       " 'ax',\n",
       " 'kwargs']"
      ]
     },
     "execution_count": 5,
     "metadata": {},
     "output_type": "execute_result"
    }
   ],
   "source": [
    "params"
   ]
  },
  {
   "cell_type": "markdown",
   "metadata": {},
   "source": [
    "## 3. To print power of a number using recursion"
   ]
  },
  {
   "cell_type": "code",
   "execution_count": 6,
   "metadata": {},
   "outputs": [],
   "source": [
    "result=1"
   ]
  },
  {
   "cell_type": "code",
   "execution_count": 8,
   "metadata": {},
   "outputs": [],
   "source": [
    "def power(num,exp):\n",
    "    if exp==0:\n",
    "        return 1\n",
    "    return power(num,exp-1)*num"
   ]
  },
  {
   "cell_type": "code",
   "execution_count": 9,
   "metadata": {},
   "outputs": [
    {
     "data": {
      "text/plain": [
       "8"
      ]
     },
     "execution_count": 9,
     "metadata": {},
     "output_type": "execute_result"
    }
   ],
   "source": [
    "power(2,3)"
   ]
  },
  {
   "cell_type": "markdown",
   "metadata": {},
   "source": [
    "## 2. To print multiple arguments "
   ]
  },
  {
   "cell_type": "code",
   "execution_count": 14,
   "metadata": {},
   "outputs": [],
   "source": [
    "#To print the arguments passed to a function:\n",
    "def fun(*args,**kwargs):\n",
    "    #args=arguments (not in any order)\n",
    "    #kwargs=keyword arguments (in any order)\n",
    "    for arg in args:\n",
    "        print(f'arg: {arg}')\n",
    "    for key,arg in kwargs.items():\n",
    "        print(f'key: {key} arg: {arg}')"
   ]
  },
  {
   "cell_type": "code",
   "execution_count": 15,
   "metadata": {},
   "outputs": [
    {
     "name": "stdout",
     "output_type": "stream",
     "text": [
      "arg: 1\n",
      "arg: 2\n",
      "arg: 3\n",
      "key: a arg: 4\n",
      "key: c arg: 9\n",
      "key: b arg: 4\n"
     ]
    }
   ],
   "source": [
    "fun(1,2,3,a=4,c=9,b=4)"
   ]
  },
  {
   "cell_type": "code",
   "execution_count": null,
   "metadata": {},
   "outputs": [],
   "source": []
  }
 ],
 "metadata": {
  "kernelspec": {
   "display_name": "Python 3",
   "language": "python",
   "name": "python3"
  },
  "language_info": {
   "codemirror_mode": {
    "name": "ipython",
    "version": 3
   },
   "file_extension": ".py",
   "mimetype": "text/x-python",
   "name": "python",
   "nbconvert_exporter": "python",
   "pygments_lexer": "ipython3",
   "version": "3.12.2"
  }
 },
 "nbformat": 4,
 "nbformat_minor": 2
}
